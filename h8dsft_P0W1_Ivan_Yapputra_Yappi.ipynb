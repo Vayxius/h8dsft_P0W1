{
 "cells": [
  {
   "cell_type": "markdown",
   "metadata": {},
   "source": [
    "# Graded Challenge 1"
   ]
  },
  {
   "cell_type": "markdown",
   "metadata": {},
   "source": [
    "_Graded Challenge ini dibuat guna mengevaluasi pembelajaran pada Hacktiv8 Data Science Fulltime Program khususnya pada konsep Basic Python, Numpy, serta Data Preparation with Pandas._\n",
    "\n",
    "Dibuat Oleh: [Ivan Yapputra Yappi](https://github.com/Vayxius)\n",
    "\n",
    "Hactiv8 Data Science: Batch 13\n",
    "\n",
    "---"
   ]
  },
  {
   "cell_type": "markdown",
   "metadata": {},
   "source": [
    "## Dataset Description"
   ]
  },
  {
   "cell_type": "markdown",
   "metadata": {},
   "source": [
    "Dataset ini menggunakan dataset pokemon yang dapat dilihat dan diunduh di [Kaggle](https://www.kaggle.com/abcsds/pokemon).\n",
    "```\n",
    "This dataset includes 721 Pokemon, including their number, name, first and second type, and basic stats: HP, Attack, Defense, Special Attack, Special Defense, and Speed.\n",
    "\n",
    "The feature of this data is:\n",
    "```\n",
    "| Feature | Description |\n",
    "| --- | --- |\n",
    "| # | ID for each pokemon |\n",
    "| Name | Name of each pokemon |\n",
    "| Type 1 | Each pokemon has a type, this determines weakness/resistance to attacks |\n",
    "| Type 2 | Some pokemon are dual type and have 2 |\n",
    "| Total | sum of all stats that come after this, a general guide to how strong a pokemon is |\n",
    "| HP | hit points, or health, defines how much damage a pokemon can withstand before fainting |\n",
    "| Attack | the base modifier for normal attacks (eg. Scratch, Punch) |\n",
    "| Defense | the base damage resistance against normal attacks |\n",
    "| SP Atk | special attack, the base modifier for special attacks (e.g. fire blast, bubble beam) |\n",
    "| SP Def | the base damage resistance against special attacks |\n",
    "| Speed | determines which pokemon attacks first each round |"
   ]
  },
  {
   "cell_type": "markdown",
   "metadata": {},
   "source": [
    "## Description"
   ]
  },
  {
   "cell_type": "markdown",
   "metadata": {},
   "source": [
    "### Objective"
   ]
  },
  {
   "cell_type": "markdown",
   "metadata": {},
   "source": [
    "Tujuan dari project Graded Challenge ini, untuk mencari:\n",
    "- Berapa banyak pokemon normal dan pokemon legendary disetiap generasi?\n",
    "- Berapa rata-rata total stats pokemon normal dan pokemon legendary disetiap generasi?\n",
    "- Berapa selisih atau perbandingan total stats pokemon (normal) yang memiliki 1 kemampuan, dengan pokemon (normal) yang memiliki 2 kemampuan disetiap generasi? (berdasarkan total stats tertinggi)\n",
    "- Berapa selisih atau perbandingan total stats pokemon (legendary) yang memiliki 1 kemampuan, dengan pokemon (legendary) yang memiliki 2 kemampuan disetiap generasi? (berdasarkan total stats tertinggi)\n",
    "- Siapa yang akan bertahan jika pokemon (normal) yang memiliki `total stats` tertinggi bertarung dengan pokemon (legendary) yang memiliki `total stats` tertinggi? "
   ]
  },
  {
   "cell_type": "markdown",
   "metadata": {},
   "source": [
    "## Working Area"
   ]
  },
  {
   "cell_type": "markdown",
   "metadata": {},
   "source": [
    "### Import Library"
   ]
  },
  {
   "cell_type": "markdown",
   "metadata": {},
   "source": [
    "Import semua library yang akan digunakan dalam project Graded Challenge 1."
   ]
  },
  {
   "cell_type": "code",
   "execution_count": 242,
   "metadata": {},
   "outputs": [],
   "source": [
    "import pandas as pd # Import library"
   ]
  },
  {
   "cell_type": "markdown",
   "metadata": {},
   "source": [
    "Dalam project Graded Challenge 1 ini, library yang digunakan hanya Pandas saja."
   ]
  },
  {
   "cell_type": "markdown",
   "metadata": {},
   "source": [
    "### Data Loading"
   ]
  },
  {
   "cell_type": "markdown",
   "metadata": {},
   "source": [
    "Bagian ini berisi proses data loading yang kemudian dilanjutkan dengan gambaran data."
   ]
  },
  {
   "cell_type": "markdown",
   "metadata": {},
   "source": [
    "Memuat semua data yang berada di dalam file `Pokemon.csv`."
   ]
  },
  {
   "cell_type": "code",
   "execution_count": 243,
   "metadata": {},
   "outputs": [],
   "source": [
    "# Load data from pokemon.csv\n",
    "\n",
    "data_pokemon = pd.read_csv('Pokemon.csv')"
   ]
  },
  {
   "cell_type": "markdown",
   "metadata": {},
   "source": [
    "Membuat variable baru untuk dataframe pokemon dengan nama `df_pokemon`."
   ]
  },
  {
   "cell_type": "markdown",
   "metadata": {},
   "source": [
    "### Data Overview"
   ]
  },
  {
   "cell_type": "code",
   "execution_count": 244,
   "metadata": {},
   "outputs": [
    {
     "data": {
      "text/html": [
       "<div>\n",
       "<style scoped>\n",
       "    .dataframe tbody tr th:only-of-type {\n",
       "        vertical-align: middle;\n",
       "    }\n",
       "\n",
       "    .dataframe tbody tr th {\n",
       "        vertical-align: top;\n",
       "    }\n",
       "\n",
       "    .dataframe thead th {\n",
       "        text-align: right;\n",
       "    }\n",
       "</style>\n",
       "<table border=\"1\" class=\"dataframe\">\n",
       "  <thead>\n",
       "    <tr style=\"text-align: right;\">\n",
       "      <th></th>\n",
       "      <th>#</th>\n",
       "      <th>Name</th>\n",
       "      <th>Type 1</th>\n",
       "      <th>Type 2</th>\n",
       "      <th>Total</th>\n",
       "      <th>HP</th>\n",
       "      <th>Attack</th>\n",
       "      <th>Defense</th>\n",
       "      <th>Sp. Atk</th>\n",
       "      <th>Sp. Def</th>\n",
       "      <th>Speed</th>\n",
       "      <th>Generation</th>\n",
       "      <th>Legendary</th>\n",
       "    </tr>\n",
       "  </thead>\n",
       "  <tbody>\n",
       "    <tr>\n",
       "      <th>0</th>\n",
       "      <td>1</td>\n",
       "      <td>Bulbasaur</td>\n",
       "      <td>Grass</td>\n",
       "      <td>Poison</td>\n",
       "      <td>318</td>\n",
       "      <td>45</td>\n",
       "      <td>49</td>\n",
       "      <td>49</td>\n",
       "      <td>65</td>\n",
       "      <td>65</td>\n",
       "      <td>45</td>\n",
       "      <td>1</td>\n",
       "      <td>False</td>\n",
       "    </tr>\n",
       "    <tr>\n",
       "      <th>1</th>\n",
       "      <td>2</td>\n",
       "      <td>Ivysaur</td>\n",
       "      <td>Grass</td>\n",
       "      <td>Poison</td>\n",
       "      <td>405</td>\n",
       "      <td>60</td>\n",
       "      <td>62</td>\n",
       "      <td>63</td>\n",
       "      <td>80</td>\n",
       "      <td>80</td>\n",
       "      <td>60</td>\n",
       "      <td>1</td>\n",
       "      <td>False</td>\n",
       "    </tr>\n",
       "    <tr>\n",
       "      <th>2</th>\n",
       "      <td>3</td>\n",
       "      <td>Venusaur</td>\n",
       "      <td>Grass</td>\n",
       "      <td>Poison</td>\n",
       "      <td>525</td>\n",
       "      <td>80</td>\n",
       "      <td>82</td>\n",
       "      <td>83</td>\n",
       "      <td>100</td>\n",
       "      <td>100</td>\n",
       "      <td>80</td>\n",
       "      <td>1</td>\n",
       "      <td>False</td>\n",
       "    </tr>\n",
       "    <tr>\n",
       "      <th>3</th>\n",
       "      <td>3</td>\n",
       "      <td>VenusaurMega Venusaur</td>\n",
       "      <td>Grass</td>\n",
       "      <td>Poison</td>\n",
       "      <td>625</td>\n",
       "      <td>80</td>\n",
       "      <td>100</td>\n",
       "      <td>123</td>\n",
       "      <td>122</td>\n",
       "      <td>120</td>\n",
       "      <td>80</td>\n",
       "      <td>1</td>\n",
       "      <td>False</td>\n",
       "    </tr>\n",
       "    <tr>\n",
       "      <th>4</th>\n",
       "      <td>4</td>\n",
       "      <td>Charmander</td>\n",
       "      <td>Fire</td>\n",
       "      <td>NaN</td>\n",
       "      <td>309</td>\n",
       "      <td>39</td>\n",
       "      <td>52</td>\n",
       "      <td>43</td>\n",
       "      <td>60</td>\n",
       "      <td>50</td>\n",
       "      <td>65</td>\n",
       "      <td>1</td>\n",
       "      <td>False</td>\n",
       "    </tr>\n",
       "    <tr>\n",
       "      <th>5</th>\n",
       "      <td>5</td>\n",
       "      <td>Charmeleon</td>\n",
       "      <td>Fire</td>\n",
       "      <td>NaN</td>\n",
       "      <td>405</td>\n",
       "      <td>58</td>\n",
       "      <td>64</td>\n",
       "      <td>58</td>\n",
       "      <td>80</td>\n",
       "      <td>65</td>\n",
       "      <td>80</td>\n",
       "      <td>1</td>\n",
       "      <td>False</td>\n",
       "    </tr>\n",
       "    <tr>\n",
       "      <th>6</th>\n",
       "      <td>6</td>\n",
       "      <td>Charizard</td>\n",
       "      <td>Fire</td>\n",
       "      <td>Flying</td>\n",
       "      <td>534</td>\n",
       "      <td>78</td>\n",
       "      <td>84</td>\n",
       "      <td>78</td>\n",
       "      <td>109</td>\n",
       "      <td>85</td>\n",
       "      <td>100</td>\n",
       "      <td>1</td>\n",
       "      <td>False</td>\n",
       "    </tr>\n",
       "    <tr>\n",
       "      <th>7</th>\n",
       "      <td>6</td>\n",
       "      <td>CharizardMega Charizard X</td>\n",
       "      <td>Fire</td>\n",
       "      <td>Dragon</td>\n",
       "      <td>634</td>\n",
       "      <td>78</td>\n",
       "      <td>130</td>\n",
       "      <td>111</td>\n",
       "      <td>130</td>\n",
       "      <td>85</td>\n",
       "      <td>100</td>\n",
       "      <td>1</td>\n",
       "      <td>False</td>\n",
       "    </tr>\n",
       "    <tr>\n",
       "      <th>8</th>\n",
       "      <td>6</td>\n",
       "      <td>CharizardMega Charizard Y</td>\n",
       "      <td>Fire</td>\n",
       "      <td>Flying</td>\n",
       "      <td>634</td>\n",
       "      <td>78</td>\n",
       "      <td>104</td>\n",
       "      <td>78</td>\n",
       "      <td>159</td>\n",
       "      <td>115</td>\n",
       "      <td>100</td>\n",
       "      <td>1</td>\n",
       "      <td>False</td>\n",
       "    </tr>\n",
       "    <tr>\n",
       "      <th>9</th>\n",
       "      <td>7</td>\n",
       "      <td>Squirtle</td>\n",
       "      <td>Water</td>\n",
       "      <td>NaN</td>\n",
       "      <td>314</td>\n",
       "      <td>44</td>\n",
       "      <td>48</td>\n",
       "      <td>65</td>\n",
       "      <td>50</td>\n",
       "      <td>64</td>\n",
       "      <td>43</td>\n",
       "      <td>1</td>\n",
       "      <td>False</td>\n",
       "    </tr>\n",
       "  </tbody>\n",
       "</table>\n",
       "</div>"
      ],
      "text/plain": [
       "   #                       Name Type 1  Type 2  Total  HP  Attack  Defense  \\\n",
       "0  1                  Bulbasaur  Grass  Poison    318  45      49       49   \n",
       "1  2                    Ivysaur  Grass  Poison    405  60      62       63   \n",
       "2  3                   Venusaur  Grass  Poison    525  80      82       83   \n",
       "3  3      VenusaurMega Venusaur  Grass  Poison    625  80     100      123   \n",
       "4  4                 Charmander   Fire     NaN    309  39      52       43   \n",
       "5  5                 Charmeleon   Fire     NaN    405  58      64       58   \n",
       "6  6                  Charizard   Fire  Flying    534  78      84       78   \n",
       "7  6  CharizardMega Charizard X   Fire  Dragon    634  78     130      111   \n",
       "8  6  CharizardMega Charizard Y   Fire  Flying    634  78     104       78   \n",
       "9  7                   Squirtle  Water     NaN    314  44      48       65   \n",
       "\n",
       "   Sp. Atk  Sp. Def  Speed  Generation  Legendary  \n",
       "0       65       65     45           1      False  \n",
       "1       80       80     60           1      False  \n",
       "2      100      100     80           1      False  \n",
       "3      122      120     80           1      False  \n",
       "4       60       50     65           1      False  \n",
       "5       80       65     80           1      False  \n",
       "6      109       85    100           1      False  \n",
       "7      130       85    100           1      False  \n",
       "8      159      115    100           1      False  \n",
       "9       50       64     43           1      False  "
      ]
     },
     "execution_count": 244,
     "metadata": {},
     "output_type": "execute_result"
    }
   ],
   "source": [
    "data_pokemon.head(10)"
   ]
  },
  {
   "cell_type": "markdown",
   "metadata": {},
   "source": [
    "Melihat 10 data awal dari dataframe `data_pokemon`."
   ]
  },
  {
   "cell_type": "code",
   "execution_count": 245,
   "metadata": {},
   "outputs": [
    {
     "data": {
      "text/html": [
       "<div>\n",
       "<style scoped>\n",
       "    .dataframe tbody tr th:only-of-type {\n",
       "        vertical-align: middle;\n",
       "    }\n",
       "\n",
       "    .dataframe tbody tr th {\n",
       "        vertical-align: top;\n",
       "    }\n",
       "\n",
       "    .dataframe thead th {\n",
       "        text-align: right;\n",
       "    }\n",
       "</style>\n",
       "<table border=\"1\" class=\"dataframe\">\n",
       "  <thead>\n",
       "    <tr style=\"text-align: right;\">\n",
       "      <th></th>\n",
       "      <th>#</th>\n",
       "      <th>Name</th>\n",
       "      <th>Type 1</th>\n",
       "      <th>Type 2</th>\n",
       "      <th>Total</th>\n",
       "      <th>HP</th>\n",
       "      <th>Attack</th>\n",
       "      <th>Defense</th>\n",
       "      <th>Sp. Atk</th>\n",
       "      <th>Sp. Def</th>\n",
       "      <th>Speed</th>\n",
       "      <th>Generation</th>\n",
       "      <th>Legendary</th>\n",
       "    </tr>\n",
       "  </thead>\n",
       "  <tbody>\n",
       "    <tr>\n",
       "      <th>790</th>\n",
       "      <td>714</td>\n",
       "      <td>Noibat</td>\n",
       "      <td>Flying</td>\n",
       "      <td>Dragon</td>\n",
       "      <td>245</td>\n",
       "      <td>40</td>\n",
       "      <td>30</td>\n",
       "      <td>35</td>\n",
       "      <td>45</td>\n",
       "      <td>40</td>\n",
       "      <td>55</td>\n",
       "      <td>6</td>\n",
       "      <td>False</td>\n",
       "    </tr>\n",
       "    <tr>\n",
       "      <th>791</th>\n",
       "      <td>715</td>\n",
       "      <td>Noivern</td>\n",
       "      <td>Flying</td>\n",
       "      <td>Dragon</td>\n",
       "      <td>535</td>\n",
       "      <td>85</td>\n",
       "      <td>70</td>\n",
       "      <td>80</td>\n",
       "      <td>97</td>\n",
       "      <td>80</td>\n",
       "      <td>123</td>\n",
       "      <td>6</td>\n",
       "      <td>False</td>\n",
       "    </tr>\n",
       "    <tr>\n",
       "      <th>792</th>\n",
       "      <td>716</td>\n",
       "      <td>Xerneas</td>\n",
       "      <td>Fairy</td>\n",
       "      <td>NaN</td>\n",
       "      <td>680</td>\n",
       "      <td>126</td>\n",
       "      <td>131</td>\n",
       "      <td>95</td>\n",
       "      <td>131</td>\n",
       "      <td>98</td>\n",
       "      <td>99</td>\n",
       "      <td>6</td>\n",
       "      <td>True</td>\n",
       "    </tr>\n",
       "    <tr>\n",
       "      <th>793</th>\n",
       "      <td>717</td>\n",
       "      <td>Yveltal</td>\n",
       "      <td>Dark</td>\n",
       "      <td>Flying</td>\n",
       "      <td>680</td>\n",
       "      <td>126</td>\n",
       "      <td>131</td>\n",
       "      <td>95</td>\n",
       "      <td>131</td>\n",
       "      <td>98</td>\n",
       "      <td>99</td>\n",
       "      <td>6</td>\n",
       "      <td>True</td>\n",
       "    </tr>\n",
       "    <tr>\n",
       "      <th>794</th>\n",
       "      <td>718</td>\n",
       "      <td>Zygarde50% Forme</td>\n",
       "      <td>Dragon</td>\n",
       "      <td>Ground</td>\n",
       "      <td>600</td>\n",
       "      <td>108</td>\n",
       "      <td>100</td>\n",
       "      <td>121</td>\n",
       "      <td>81</td>\n",
       "      <td>95</td>\n",
       "      <td>95</td>\n",
       "      <td>6</td>\n",
       "      <td>True</td>\n",
       "    </tr>\n",
       "    <tr>\n",
       "      <th>795</th>\n",
       "      <td>719</td>\n",
       "      <td>Diancie</td>\n",
       "      <td>Rock</td>\n",
       "      <td>Fairy</td>\n",
       "      <td>600</td>\n",
       "      <td>50</td>\n",
       "      <td>100</td>\n",
       "      <td>150</td>\n",
       "      <td>100</td>\n",
       "      <td>150</td>\n",
       "      <td>50</td>\n",
       "      <td>6</td>\n",
       "      <td>True</td>\n",
       "    </tr>\n",
       "    <tr>\n",
       "      <th>796</th>\n",
       "      <td>719</td>\n",
       "      <td>DiancieMega Diancie</td>\n",
       "      <td>Rock</td>\n",
       "      <td>Fairy</td>\n",
       "      <td>700</td>\n",
       "      <td>50</td>\n",
       "      <td>160</td>\n",
       "      <td>110</td>\n",
       "      <td>160</td>\n",
       "      <td>110</td>\n",
       "      <td>110</td>\n",
       "      <td>6</td>\n",
       "      <td>True</td>\n",
       "    </tr>\n",
       "    <tr>\n",
       "      <th>797</th>\n",
       "      <td>720</td>\n",
       "      <td>HoopaHoopa Confined</td>\n",
       "      <td>Psychic</td>\n",
       "      <td>Ghost</td>\n",
       "      <td>600</td>\n",
       "      <td>80</td>\n",
       "      <td>110</td>\n",
       "      <td>60</td>\n",
       "      <td>150</td>\n",
       "      <td>130</td>\n",
       "      <td>70</td>\n",
       "      <td>6</td>\n",
       "      <td>True</td>\n",
       "    </tr>\n",
       "    <tr>\n",
       "      <th>798</th>\n",
       "      <td>720</td>\n",
       "      <td>HoopaHoopa Unbound</td>\n",
       "      <td>Psychic</td>\n",
       "      <td>Dark</td>\n",
       "      <td>680</td>\n",
       "      <td>80</td>\n",
       "      <td>160</td>\n",
       "      <td>60</td>\n",
       "      <td>170</td>\n",
       "      <td>130</td>\n",
       "      <td>80</td>\n",
       "      <td>6</td>\n",
       "      <td>True</td>\n",
       "    </tr>\n",
       "    <tr>\n",
       "      <th>799</th>\n",
       "      <td>721</td>\n",
       "      <td>Volcanion</td>\n",
       "      <td>Fire</td>\n",
       "      <td>Water</td>\n",
       "      <td>600</td>\n",
       "      <td>80</td>\n",
       "      <td>110</td>\n",
       "      <td>120</td>\n",
       "      <td>130</td>\n",
       "      <td>90</td>\n",
       "      <td>70</td>\n",
       "      <td>6</td>\n",
       "      <td>True</td>\n",
       "    </tr>\n",
       "  </tbody>\n",
       "</table>\n",
       "</div>"
      ],
      "text/plain": [
       "       #                 Name   Type 1  Type 2  Total   HP  Attack  Defense  \\\n",
       "790  714               Noibat   Flying  Dragon    245   40      30       35   \n",
       "791  715              Noivern   Flying  Dragon    535   85      70       80   \n",
       "792  716              Xerneas    Fairy     NaN    680  126     131       95   \n",
       "793  717              Yveltal     Dark  Flying    680  126     131       95   \n",
       "794  718     Zygarde50% Forme   Dragon  Ground    600  108     100      121   \n",
       "795  719              Diancie     Rock   Fairy    600   50     100      150   \n",
       "796  719  DiancieMega Diancie     Rock   Fairy    700   50     160      110   \n",
       "797  720  HoopaHoopa Confined  Psychic   Ghost    600   80     110       60   \n",
       "798  720   HoopaHoopa Unbound  Psychic    Dark    680   80     160       60   \n",
       "799  721            Volcanion     Fire   Water    600   80     110      120   \n",
       "\n",
       "     Sp. Atk  Sp. Def  Speed  Generation  Legendary  \n",
       "790       45       40     55           6      False  \n",
       "791       97       80    123           6      False  \n",
       "792      131       98     99           6       True  \n",
       "793      131       98     99           6       True  \n",
       "794       81       95     95           6       True  \n",
       "795      100      150     50           6       True  \n",
       "796      160      110    110           6       True  \n",
       "797      150      130     70           6       True  \n",
       "798      170      130     80           6       True  \n",
       "799      130       90     70           6       True  "
      ]
     },
     "execution_count": 245,
     "metadata": {},
     "output_type": "execute_result"
    }
   ],
   "source": [
    "data_pokemon.tail(10)"
   ]
  },
  {
   "cell_type": "markdown",
   "metadata": {},
   "source": [
    "Melihat 10 data terakhir dari dataframe `data_pokemon`."
   ]
  },
  {
   "cell_type": "code",
   "execution_count": 246,
   "metadata": {},
   "outputs": [
    {
     "data": {
      "text/plain": [
       "(800, 13)"
      ]
     },
     "execution_count": 246,
     "metadata": {},
     "output_type": "execute_result"
    }
   ],
   "source": [
    "data_pokemon.shape # Returns tuple of shape (Rows, columns) of dataframe data_pokemon"
   ]
  },
  {
   "cell_type": "markdown",
   "metadata": {},
   "source": [
    "Melihat bentuk dari `data_pokemon`, dataset ini terdiri dari 800 baris, dan 13 kolom."
   ]
  },
  {
   "cell_type": "code",
   "execution_count": 247,
   "metadata": {},
   "outputs": [
    {
     "name": "stdout",
     "output_type": "stream",
     "text": [
      "<class 'pandas.core.frame.DataFrame'>\n",
      "RangeIndex: 800 entries, 0 to 799\n",
      "Data columns (total 13 columns):\n",
      " #   Column      Non-Null Count  Dtype \n",
      "---  ------      --------------  ----- \n",
      " 0   #           800 non-null    int64 \n",
      " 1   Name        800 non-null    object\n",
      " 2   Type 1      800 non-null    object\n",
      " 3   Type 2      414 non-null    object\n",
      " 4   Total       800 non-null    int64 \n",
      " 5   HP          800 non-null    int64 \n",
      " 6   Attack      800 non-null    int64 \n",
      " 7   Defense     800 non-null    int64 \n",
      " 8   Sp. Atk     800 non-null    int64 \n",
      " 9   Sp. Def     800 non-null    int64 \n",
      " 10  Speed       800 non-null    int64 \n",
      " 11  Generation  800 non-null    int64 \n",
      " 12  Legendary   800 non-null    bool  \n",
      "dtypes: bool(1), int64(9), object(3)\n",
      "memory usage: 75.9+ KB\n"
     ]
    }
   ],
   "source": [
    "data_pokemon.info() # Return informasi dari dataframe data_pokemon"
   ]
  },
  {
   "cell_type": "markdown",
   "metadata": {},
   "source": [
    "Pada dataset ini dapat dilihat bahwa dataframe `data_pokemon` terdiri dari 13 kolom, dengan 3 tipe data yaitu:\n",
    "- 1 kolom bertipe data boolean.\n",
    "- 3 kolom bertipe data object.\n",
    "- 9 kolom bertipe data integer.\n",
    "\n",
    "Dari dataset ini juga terdapat missing value pada kolom `Type 2` yang hanya menampilkan 414 data dari 800 baris."
   ]
  },
  {
   "cell_type": "code",
   "execution_count": 248,
   "metadata": {},
   "outputs": [
    {
     "data": {
      "text/html": [
       "<div>\n",
       "<style scoped>\n",
       "    .dataframe tbody tr th:only-of-type {\n",
       "        vertical-align: middle;\n",
       "    }\n",
       "\n",
       "    .dataframe tbody tr th {\n",
       "        vertical-align: top;\n",
       "    }\n",
       "\n",
       "    .dataframe thead th {\n",
       "        text-align: right;\n",
       "    }\n",
       "</style>\n",
       "<table border=\"1\" class=\"dataframe\">\n",
       "  <thead>\n",
       "    <tr style=\"text-align: right;\">\n",
       "      <th></th>\n",
       "      <th>count</th>\n",
       "      <th>mean</th>\n",
       "      <th>std</th>\n",
       "      <th>min</th>\n",
       "      <th>25%</th>\n",
       "      <th>50%</th>\n",
       "      <th>75%</th>\n",
       "      <th>max</th>\n",
       "    </tr>\n",
       "  </thead>\n",
       "  <tbody>\n",
       "    <tr>\n",
       "      <th>#</th>\n",
       "      <td>800.0</td>\n",
       "      <td>362.81375</td>\n",
       "      <td>208.343798</td>\n",
       "      <td>1.0</td>\n",
       "      <td>184.75</td>\n",
       "      <td>364.5</td>\n",
       "      <td>539.25</td>\n",
       "      <td>721.0</td>\n",
       "    </tr>\n",
       "    <tr>\n",
       "      <th>Total</th>\n",
       "      <td>800.0</td>\n",
       "      <td>435.10250</td>\n",
       "      <td>119.963040</td>\n",
       "      <td>180.0</td>\n",
       "      <td>330.00</td>\n",
       "      <td>450.0</td>\n",
       "      <td>515.00</td>\n",
       "      <td>780.0</td>\n",
       "    </tr>\n",
       "    <tr>\n",
       "      <th>HP</th>\n",
       "      <td>800.0</td>\n",
       "      <td>69.25875</td>\n",
       "      <td>25.534669</td>\n",
       "      <td>1.0</td>\n",
       "      <td>50.00</td>\n",
       "      <td>65.0</td>\n",
       "      <td>80.00</td>\n",
       "      <td>255.0</td>\n",
       "    </tr>\n",
       "    <tr>\n",
       "      <th>Attack</th>\n",
       "      <td>800.0</td>\n",
       "      <td>79.00125</td>\n",
       "      <td>32.457366</td>\n",
       "      <td>5.0</td>\n",
       "      <td>55.00</td>\n",
       "      <td>75.0</td>\n",
       "      <td>100.00</td>\n",
       "      <td>190.0</td>\n",
       "    </tr>\n",
       "    <tr>\n",
       "      <th>Defense</th>\n",
       "      <td>800.0</td>\n",
       "      <td>73.84250</td>\n",
       "      <td>31.183501</td>\n",
       "      <td>5.0</td>\n",
       "      <td>50.00</td>\n",
       "      <td>70.0</td>\n",
       "      <td>90.00</td>\n",
       "      <td>230.0</td>\n",
       "    </tr>\n",
       "    <tr>\n",
       "      <th>Sp. Atk</th>\n",
       "      <td>800.0</td>\n",
       "      <td>72.82000</td>\n",
       "      <td>32.722294</td>\n",
       "      <td>10.0</td>\n",
       "      <td>49.75</td>\n",
       "      <td>65.0</td>\n",
       "      <td>95.00</td>\n",
       "      <td>194.0</td>\n",
       "    </tr>\n",
       "    <tr>\n",
       "      <th>Sp. Def</th>\n",
       "      <td>800.0</td>\n",
       "      <td>71.90250</td>\n",
       "      <td>27.828916</td>\n",
       "      <td>20.0</td>\n",
       "      <td>50.00</td>\n",
       "      <td>70.0</td>\n",
       "      <td>90.00</td>\n",
       "      <td>230.0</td>\n",
       "    </tr>\n",
       "    <tr>\n",
       "      <th>Speed</th>\n",
       "      <td>800.0</td>\n",
       "      <td>68.27750</td>\n",
       "      <td>29.060474</td>\n",
       "      <td>5.0</td>\n",
       "      <td>45.00</td>\n",
       "      <td>65.0</td>\n",
       "      <td>90.00</td>\n",
       "      <td>180.0</td>\n",
       "    </tr>\n",
       "    <tr>\n",
       "      <th>Generation</th>\n",
       "      <td>800.0</td>\n",
       "      <td>3.32375</td>\n",
       "      <td>1.661290</td>\n",
       "      <td>1.0</td>\n",
       "      <td>2.00</td>\n",
       "      <td>3.0</td>\n",
       "      <td>5.00</td>\n",
       "      <td>6.0</td>\n",
       "    </tr>\n",
       "  </tbody>\n",
       "</table>\n",
       "</div>"
      ],
      "text/plain": [
       "            count       mean         std    min     25%    50%     75%    max\n",
       "#           800.0  362.81375  208.343798    1.0  184.75  364.5  539.25  721.0\n",
       "Total       800.0  435.10250  119.963040  180.0  330.00  450.0  515.00  780.0\n",
       "HP          800.0   69.25875   25.534669    1.0   50.00   65.0   80.00  255.0\n",
       "Attack      800.0   79.00125   32.457366    5.0   55.00   75.0  100.00  190.0\n",
       "Defense     800.0   73.84250   31.183501    5.0   50.00   70.0   90.00  230.0\n",
       "Sp. Atk     800.0   72.82000   32.722294   10.0   49.75   65.0   95.00  194.0\n",
       "Sp. Def     800.0   71.90250   27.828916   20.0   50.00   70.0   90.00  230.0\n",
       "Speed       800.0   68.27750   29.060474    5.0   45.00   65.0   90.00  180.0\n",
       "Generation  800.0    3.32375    1.661290    1.0    2.00    3.0    5.00    6.0"
      ]
     },
     "execution_count": 248,
     "metadata": {},
     "output_type": "execute_result"
    }
   ],
   "source": [
    "data_pokemon.describe().T # Summary Statistic"
   ]
  },
  {
   "cell_type": "markdown",
   "metadata": {},
   "source": [
    "Menampilkan ringkasan statistik dari dataframe `data_pokemon` dengan tipe data numeric, hasil data diatas menampilkan:\n",
    "- rata-rata.\n",
    "- standar deviasi.\n",
    "- nilai minimum.\n",
    "- kuartil.\n",
    "- nilai maksimum."
   ]
  },
  {
   "cell_type": "markdown",
   "metadata": {},
   "source": [
    "Berdasarkan Data Overview diatas, diketahui bahwa:\n",
    "- Missing value pada kolom `Type  2`.\n",
    "- Rentang Generation dari Generation 1 sampai 6."
   ]
  },
  {
   "cell_type": "markdown",
   "metadata": {},
   "source": [
    "## Data Cleaning"
   ]
  },
  {
   "cell_type": "markdown",
   "metadata": {},
   "source": [
    "Bagian ini berisi proses penyiapan data berupa data cleaning sebelum dilakukan explorasi data lebih lanjut."
   ]
  },
  {
   "cell_type": "markdown",
   "metadata": {},
   "source": [
    "### Rename Column"
   ]
  },
  {
   "cell_type": "markdown",
   "metadata": {},
   "source": [
    "Agar memudahkan pemanggilan kolom pada saat explorasi data, maka akan dilakukan perubahan nama label pada kolom dataframe `data_pokemon` terlebih dahulu."
   ]
  },
  {
   "cell_type": "code",
   "execution_count": 249,
   "metadata": {},
   "outputs": [
    {
     "data": {
      "text/html": [
       "<div>\n",
       "<style scoped>\n",
       "    .dataframe tbody tr th:only-of-type {\n",
       "        vertical-align: middle;\n",
       "    }\n",
       "\n",
       "    .dataframe tbody tr th {\n",
       "        vertical-align: top;\n",
       "    }\n",
       "\n",
       "    .dataframe thead th {\n",
       "        text-align: right;\n",
       "    }\n",
       "</style>\n",
       "<table border=\"1\" class=\"dataframe\">\n",
       "  <thead>\n",
       "    <tr style=\"text-align: right;\">\n",
       "      <th></th>\n",
       "      <th>#</th>\n",
       "      <th>Name</th>\n",
       "      <th>Type 1</th>\n",
       "      <th>Type 2</th>\n",
       "      <th>Total</th>\n",
       "      <th>HP</th>\n",
       "      <th>Attack</th>\n",
       "      <th>Defense</th>\n",
       "      <th>Sp. Atk</th>\n",
       "      <th>Sp. Def</th>\n",
       "      <th>Speed</th>\n",
       "      <th>Generation</th>\n",
       "      <th>Legendary</th>\n",
       "    </tr>\n",
       "  </thead>\n",
       "  <tbody>\n",
       "    <tr>\n",
       "      <th>0</th>\n",
       "      <td>1</td>\n",
       "      <td>Bulbasaur</td>\n",
       "      <td>Grass</td>\n",
       "      <td>Poison</td>\n",
       "      <td>318</td>\n",
       "      <td>45</td>\n",
       "      <td>49</td>\n",
       "      <td>49</td>\n",
       "      <td>65</td>\n",
       "      <td>65</td>\n",
       "      <td>45</td>\n",
       "      <td>1</td>\n",
       "      <td>False</td>\n",
       "    </tr>\n",
       "  </tbody>\n",
       "</table>\n",
       "</div>"
      ],
      "text/plain": [
       "   #       Name Type 1  Type 2  Total  HP  Attack  Defense  Sp. Atk  Sp. Def  \\\n",
       "0  1  Bulbasaur  Grass  Poison    318  45      49       49       65       65   \n",
       "\n",
       "   Speed  Generation  Legendary  \n",
       "0     45           1      False  "
      ]
     },
     "execution_count": 249,
     "metadata": {},
     "output_type": "execute_result"
    }
   ],
   "source": [
    "data_pokemon.head(1)"
   ]
  },
  {
   "cell_type": "markdown",
   "metadata": {},
   "source": [
    "Menampilkan dataframe `data_pokemon` sebelum perubahan kolom terjadi."
   ]
  },
  {
   "cell_type": "code",
   "execution_count": 250,
   "metadata": {},
   "outputs": [],
   "source": [
    "data_pokemon.rename(columns={\"Name\": \"name\",\n",
    "                             \"Type 1\": \"type_1\",\n",
    "                             \"Type 2\": \"type_2\",\n",
    "                             \"Total\": \"total\",\n",
    "                             \"HP\": \"hp\", \n",
    "                             \"Attack\": \"attack\",\n",
    "                             \"Defense\": \"defense\",\n",
    "                             \"Sp. Atk\": \"sp_atk\",\n",
    "                             \"Sp. Def\": \"sp_def\",\n",
    "                             \"Speed\": \"speed\",\n",
    "                             \"Generation\": \"generation\",\n",
    "                             \"Legendary\": \"legendary\"}, inplace= True)"
   ]
  },
  {
   "cell_type": "markdown",
   "metadata": {},
   "source": [
    "Melakukan perubahan nama label terhadap kolom yang ada di dalam dataframe `data_pokemon`."
   ]
  },
  {
   "cell_type": "code",
   "execution_count": 251,
   "metadata": {},
   "outputs": [
    {
     "data": {
      "text/html": [
       "<div>\n",
       "<style scoped>\n",
       "    .dataframe tbody tr th:only-of-type {\n",
       "        vertical-align: middle;\n",
       "    }\n",
       "\n",
       "    .dataframe tbody tr th {\n",
       "        vertical-align: top;\n",
       "    }\n",
       "\n",
       "    .dataframe thead th {\n",
       "        text-align: right;\n",
       "    }\n",
       "</style>\n",
       "<table border=\"1\" class=\"dataframe\">\n",
       "  <thead>\n",
       "    <tr style=\"text-align: right;\">\n",
       "      <th></th>\n",
       "      <th>#</th>\n",
       "      <th>name</th>\n",
       "      <th>type_1</th>\n",
       "      <th>type_2</th>\n",
       "      <th>total</th>\n",
       "      <th>hp</th>\n",
       "      <th>attack</th>\n",
       "      <th>defense</th>\n",
       "      <th>sp_atk</th>\n",
       "      <th>sp_def</th>\n",
       "      <th>speed</th>\n",
       "      <th>generation</th>\n",
       "      <th>legendary</th>\n",
       "    </tr>\n",
       "  </thead>\n",
       "  <tbody>\n",
       "    <tr>\n",
       "      <th>0</th>\n",
       "      <td>1</td>\n",
       "      <td>Bulbasaur</td>\n",
       "      <td>Grass</td>\n",
       "      <td>Poison</td>\n",
       "      <td>318</td>\n",
       "      <td>45</td>\n",
       "      <td>49</td>\n",
       "      <td>49</td>\n",
       "      <td>65</td>\n",
       "      <td>65</td>\n",
       "      <td>45</td>\n",
       "      <td>1</td>\n",
       "      <td>False</td>\n",
       "    </tr>\n",
       "  </tbody>\n",
       "</table>\n",
       "</div>"
      ],
      "text/plain": [
       "   #       name type_1  type_2  total  hp  attack  defense  sp_atk  sp_def  \\\n",
       "0  1  Bulbasaur  Grass  Poison    318  45      49       49      65      65   \n",
       "\n",
       "   speed  generation  legendary  \n",
       "0     45           1      False  "
      ]
     },
     "execution_count": 251,
     "metadata": {},
     "output_type": "execute_result"
    }
   ],
   "source": [
    "data_pokemon.head(1)"
   ]
  },
  {
   "cell_type": "markdown",
   "metadata": {},
   "source": [
    "Penamaan label di setiap kolom dataframe `data_pokemon` sudah terubah."
   ]
  },
  {
   "cell_type": "markdown",
   "metadata": {},
   "source": [
    "### Drop Column"
   ]
  },
  {
   "cell_type": "markdown",
   "metadata": {},
   "source": [
    "Melakukan penghapusan kolom yang tidak terpakai, pada project `Graded Challenge` ini kolom `#` tidak akan digunakan, maka akan dihilangkan."
   ]
  },
  {
   "cell_type": "code",
   "execution_count": 252,
   "metadata": {},
   "outputs": [
    {
     "data": {
      "text/html": [
       "<div>\n",
       "<style scoped>\n",
       "    .dataframe tbody tr th:only-of-type {\n",
       "        vertical-align: middle;\n",
       "    }\n",
       "\n",
       "    .dataframe tbody tr th {\n",
       "        vertical-align: top;\n",
       "    }\n",
       "\n",
       "    .dataframe thead th {\n",
       "        text-align: right;\n",
       "    }\n",
       "</style>\n",
       "<table border=\"1\" class=\"dataframe\">\n",
       "  <thead>\n",
       "    <tr style=\"text-align: right;\">\n",
       "      <th></th>\n",
       "      <th>name</th>\n",
       "      <th>type_1</th>\n",
       "      <th>type_2</th>\n",
       "      <th>total</th>\n",
       "      <th>hp</th>\n",
       "      <th>attack</th>\n",
       "      <th>defense</th>\n",
       "      <th>sp_atk</th>\n",
       "      <th>sp_def</th>\n",
       "      <th>speed</th>\n",
       "      <th>generation</th>\n",
       "      <th>legendary</th>\n",
       "    </tr>\n",
       "  </thead>\n",
       "  <tbody>\n",
       "    <tr>\n",
       "      <th>0</th>\n",
       "      <td>Bulbasaur</td>\n",
       "      <td>Grass</td>\n",
       "      <td>Poison</td>\n",
       "      <td>318</td>\n",
       "      <td>45</td>\n",
       "      <td>49</td>\n",
       "      <td>49</td>\n",
       "      <td>65</td>\n",
       "      <td>65</td>\n",
       "      <td>45</td>\n",
       "      <td>1</td>\n",
       "      <td>False</td>\n",
       "    </tr>\n",
       "  </tbody>\n",
       "</table>\n",
       "</div>"
      ],
      "text/plain": [
       "        name type_1  type_2  total  hp  attack  defense  sp_atk  sp_def  \\\n",
       "0  Bulbasaur  Grass  Poison    318  45      49       49      65      65   \n",
       "\n",
       "   speed  generation  legendary  \n",
       "0     45           1      False  "
      ]
     },
     "execution_count": 252,
     "metadata": {},
     "output_type": "execute_result"
    }
   ],
   "source": [
    "data_pokemon.drop(columns='#',inplace= True) # menghilangkan kolom dengan label #\n",
    "data_pokemon.head(1)"
   ]
  },
  {
   "cell_type": "markdown",
   "metadata": {},
   "source": [
    "Pada dataframe `data_pokemon`. Kolom dengan label `#` sudah terhapus."
   ]
  },
  {
   "cell_type": "markdown",
   "metadata": {},
   "source": [
    "### Missing Value"
   ]
  },
  {
   "cell_type": "markdown",
   "metadata": {},
   "source": [
    "Melakukan pemeriksaan terhadap dataframe `data_pokemon` berapa banyak missing value yang ada."
   ]
  },
  {
   "cell_type": "code",
   "execution_count": 253,
   "metadata": {},
   "outputs": [
    {
     "data": {
      "text/plain": [
       "name            0\n",
       "type_1          0\n",
       "type_2        386\n",
       "total           0\n",
       "hp              0\n",
       "attack          0\n",
       "defense         0\n",
       "sp_atk          0\n",
       "sp_def          0\n",
       "speed           0\n",
       "generation      0\n",
       "legendary       0\n",
       "dtype: int64"
      ]
     },
     "execution_count": 253,
     "metadata": {},
     "output_type": "execute_result"
    }
   ],
   "source": [
    "data_pokemon.isna().sum() # melakukan pengecekkan berapa banyak value yang kosong (NaN)."
   ]
  },
  {
   "cell_type": "markdown",
   "metadata": {},
   "source": [
    "Terdapat 386 missing value pada kolom `type_2`"
   ]
  },
  {
   "cell_type": "code",
   "execution_count": 254,
   "metadata": {},
   "outputs": [],
   "source": [
    "data_pokemon.fillna('None',inplace=True)"
   ]
  },
  {
   "cell_type": "markdown",
   "metadata": {},
   "source": [
    "Melakukan perubahan value terhadap missing value yang berada di kolom `type_2`, dan mengganti missing value tersebut dengan keterangan `None`."
   ]
  },
  {
   "cell_type": "code",
   "execution_count": 255,
   "metadata": {},
   "outputs": [
    {
     "data": {
      "text/plain": [
       "name          0\n",
       "type_1        0\n",
       "type_2        0\n",
       "total         0\n",
       "hp            0\n",
       "attack        0\n",
       "defense       0\n",
       "sp_atk        0\n",
       "sp_def        0\n",
       "speed         0\n",
       "generation    0\n",
       "legendary     0\n",
       "dtype: int64"
      ]
     },
     "execution_count": 255,
     "metadata": {},
     "output_type": "execute_result"
    }
   ],
   "source": [
    "data_pokemon.isna().sum() # melakukan pengecekkan berapa banyak value yang kosong (NaN)."
   ]
  },
  {
   "cell_type": "markdown",
   "metadata": {},
   "source": [
    "Sudah tidak terdapat missing value lagi di dalam dataframe `data_pokemon`."
   ]
  },
  {
   "cell_type": "markdown",
   "metadata": {},
   "source": [
    "### Create Column"
   ]
  },
  {
   "cell_type": "markdown",
   "metadata": {},
   "source": [
    "Menambahkan kolom `ability` untuk menampilkan jumlah elemen yang dimiliki oleh pokemon."
   ]
  },
  {
   "cell_type": "code",
   "execution_count": 256,
   "metadata": {},
   "outputs": [],
   "source": [
    "ability = []\n",
    "for i in range(0,len(data_pokemon)):\n",
    "    if data_pokemon.iloc[i,2] == 'None':\n",
    "        tipe = 'one'\n",
    "    else:\n",
    "        tipe = 'two'\n",
    "    ability.append(tipe)\n",
    "data_pokemon['ability'] = ability"
   ]
  },
  {
   "cell_type": "markdown",
   "metadata": {},
   "source": [
    "kolom `ability` sudah ditambahkan Pada dataframe `data_pokemon`, value pada kolom `ability` hanya berisi `one` dan `two`. "
   ]
  },
  {
   "cell_type": "markdown",
   "metadata": {},
   "source": [
    "## Data Exploration"
   ]
  },
  {
   "cell_type": "markdown",
   "metadata": {},
   "source": [
    "Bagian ini berisi explorasi data pada dataset `pokemon` dengan menggunakan query, grouping, visualisasi sederhana, dan lain sebagainya."
   ]
  },
  {
   "cell_type": "code",
   "execution_count": 257,
   "metadata": {},
   "outputs": [
    {
     "data": {
      "text/html": [
       "<div>\n",
       "<style scoped>\n",
       "    .dataframe tbody tr th:only-of-type {\n",
       "        vertical-align: middle;\n",
       "    }\n",
       "\n",
       "    .dataframe tbody tr th {\n",
       "        vertical-align: top;\n",
       "    }\n",
       "\n",
       "    .dataframe thead th {\n",
       "        text-align: right;\n",
       "    }\n",
       "</style>\n",
       "<table border=\"1\" class=\"dataframe\">\n",
       "  <thead>\n",
       "    <tr style=\"text-align: right;\">\n",
       "      <th></th>\n",
       "      <th>name</th>\n",
       "      <th>type_1</th>\n",
       "      <th>type_2</th>\n",
       "      <th>total</th>\n",
       "      <th>hp</th>\n",
       "      <th>attack</th>\n",
       "      <th>defense</th>\n",
       "      <th>sp_atk</th>\n",
       "      <th>sp_def</th>\n",
       "      <th>speed</th>\n",
       "      <th>generation</th>\n",
       "      <th>legendary</th>\n",
       "      <th>ability</th>\n",
       "    </tr>\n",
       "  </thead>\n",
       "  <tbody>\n",
       "    <tr>\n",
       "      <th>0</th>\n",
       "      <td>Bulbasaur</td>\n",
       "      <td>Grass</td>\n",
       "      <td>Poison</td>\n",
       "      <td>318</td>\n",
       "      <td>45</td>\n",
       "      <td>49</td>\n",
       "      <td>49</td>\n",
       "      <td>65</td>\n",
       "      <td>65</td>\n",
       "      <td>45</td>\n",
       "      <td>1</td>\n",
       "      <td>False</td>\n",
       "      <td>two</td>\n",
       "    </tr>\n",
       "    <tr>\n",
       "      <th>1</th>\n",
       "      <td>Ivysaur</td>\n",
       "      <td>Grass</td>\n",
       "      <td>Poison</td>\n",
       "      <td>405</td>\n",
       "      <td>60</td>\n",
       "      <td>62</td>\n",
       "      <td>63</td>\n",
       "      <td>80</td>\n",
       "      <td>80</td>\n",
       "      <td>60</td>\n",
       "      <td>1</td>\n",
       "      <td>False</td>\n",
       "      <td>two</td>\n",
       "    </tr>\n",
       "    <tr>\n",
       "      <th>2</th>\n",
       "      <td>Venusaur</td>\n",
       "      <td>Grass</td>\n",
       "      <td>Poison</td>\n",
       "      <td>525</td>\n",
       "      <td>80</td>\n",
       "      <td>82</td>\n",
       "      <td>83</td>\n",
       "      <td>100</td>\n",
       "      <td>100</td>\n",
       "      <td>80</td>\n",
       "      <td>1</td>\n",
       "      <td>False</td>\n",
       "      <td>two</td>\n",
       "    </tr>\n",
       "    <tr>\n",
       "      <th>3</th>\n",
       "      <td>VenusaurMega Venusaur</td>\n",
       "      <td>Grass</td>\n",
       "      <td>Poison</td>\n",
       "      <td>625</td>\n",
       "      <td>80</td>\n",
       "      <td>100</td>\n",
       "      <td>123</td>\n",
       "      <td>122</td>\n",
       "      <td>120</td>\n",
       "      <td>80</td>\n",
       "      <td>1</td>\n",
       "      <td>False</td>\n",
       "      <td>two</td>\n",
       "    </tr>\n",
       "    <tr>\n",
       "      <th>4</th>\n",
       "      <td>Charmander</td>\n",
       "      <td>Fire</td>\n",
       "      <td>None</td>\n",
       "      <td>309</td>\n",
       "      <td>39</td>\n",
       "      <td>52</td>\n",
       "      <td>43</td>\n",
       "      <td>60</td>\n",
       "      <td>50</td>\n",
       "      <td>65</td>\n",
       "      <td>1</td>\n",
       "      <td>False</td>\n",
       "      <td>one</td>\n",
       "    </tr>\n",
       "    <tr>\n",
       "      <th>5</th>\n",
       "      <td>Charmeleon</td>\n",
       "      <td>Fire</td>\n",
       "      <td>None</td>\n",
       "      <td>405</td>\n",
       "      <td>58</td>\n",
       "      <td>64</td>\n",
       "      <td>58</td>\n",
       "      <td>80</td>\n",
       "      <td>65</td>\n",
       "      <td>80</td>\n",
       "      <td>1</td>\n",
       "      <td>False</td>\n",
       "      <td>one</td>\n",
       "    </tr>\n",
       "    <tr>\n",
       "      <th>6</th>\n",
       "      <td>Charizard</td>\n",
       "      <td>Fire</td>\n",
       "      <td>Flying</td>\n",
       "      <td>534</td>\n",
       "      <td>78</td>\n",
       "      <td>84</td>\n",
       "      <td>78</td>\n",
       "      <td>109</td>\n",
       "      <td>85</td>\n",
       "      <td>100</td>\n",
       "      <td>1</td>\n",
       "      <td>False</td>\n",
       "      <td>two</td>\n",
       "    </tr>\n",
       "    <tr>\n",
       "      <th>7</th>\n",
       "      <td>CharizardMega Charizard X</td>\n",
       "      <td>Fire</td>\n",
       "      <td>Dragon</td>\n",
       "      <td>634</td>\n",
       "      <td>78</td>\n",
       "      <td>130</td>\n",
       "      <td>111</td>\n",
       "      <td>130</td>\n",
       "      <td>85</td>\n",
       "      <td>100</td>\n",
       "      <td>1</td>\n",
       "      <td>False</td>\n",
       "      <td>two</td>\n",
       "    </tr>\n",
       "    <tr>\n",
       "      <th>8</th>\n",
       "      <td>CharizardMega Charizard Y</td>\n",
       "      <td>Fire</td>\n",
       "      <td>Flying</td>\n",
       "      <td>634</td>\n",
       "      <td>78</td>\n",
       "      <td>104</td>\n",
       "      <td>78</td>\n",
       "      <td>159</td>\n",
       "      <td>115</td>\n",
       "      <td>100</td>\n",
       "      <td>1</td>\n",
       "      <td>False</td>\n",
       "      <td>two</td>\n",
       "    </tr>\n",
       "    <tr>\n",
       "      <th>9</th>\n",
       "      <td>Squirtle</td>\n",
       "      <td>Water</td>\n",
       "      <td>None</td>\n",
       "      <td>314</td>\n",
       "      <td>44</td>\n",
       "      <td>48</td>\n",
       "      <td>65</td>\n",
       "      <td>50</td>\n",
       "      <td>64</td>\n",
       "      <td>43</td>\n",
       "      <td>1</td>\n",
       "      <td>False</td>\n",
       "      <td>one</td>\n",
       "    </tr>\n",
       "  </tbody>\n",
       "</table>\n",
       "</div>"
      ],
      "text/plain": [
       "                        name type_1  type_2  total  hp  attack  defense  \\\n",
       "0                  Bulbasaur  Grass  Poison    318  45      49       49   \n",
       "1                    Ivysaur  Grass  Poison    405  60      62       63   \n",
       "2                   Venusaur  Grass  Poison    525  80      82       83   \n",
       "3      VenusaurMega Venusaur  Grass  Poison    625  80     100      123   \n",
       "4                 Charmander   Fire    None    309  39      52       43   \n",
       "5                 Charmeleon   Fire    None    405  58      64       58   \n",
       "6                  Charizard   Fire  Flying    534  78      84       78   \n",
       "7  CharizardMega Charizard X   Fire  Dragon    634  78     130      111   \n",
       "8  CharizardMega Charizard Y   Fire  Flying    634  78     104       78   \n",
       "9                   Squirtle  Water    None    314  44      48       65   \n",
       "\n",
       "   sp_atk  sp_def  speed  generation  legendary ability  \n",
       "0      65      65     45           1      False     two  \n",
       "1      80      80     60           1      False     two  \n",
       "2     100     100     80           1      False     two  \n",
       "3     122     120     80           1      False     two  \n",
       "4      60      50     65           1      False     one  \n",
       "5      80      65     80           1      False     one  \n",
       "6     109      85    100           1      False     two  \n",
       "7     130      85    100           1      False     two  \n",
       "8     159     115    100           1      False     two  \n",
       "9      50      64     43           1      False     one  "
      ]
     },
     "execution_count": 257,
     "metadata": {},
     "output_type": "execute_result"
    }
   ],
   "source": [
    "data_pokemon.head(10)"
   ]
  },
  {
   "cell_type": "markdown",
   "metadata": {},
   "source": [
    "Melihat 10 data teratas dari dataframe `data_pokemon`"
   ]
  },
  {
   "cell_type": "markdown",
   "metadata": {},
   "source": [
    "### Query"
   ]
  },
  {
   "cell_type": "code",
   "execution_count": 258,
   "metadata": {},
   "outputs": [
    {
     "data": {
      "text/html": [
       "<div>\n",
       "<style scoped>\n",
       "    .dataframe tbody tr th:only-of-type {\n",
       "        vertical-align: middle;\n",
       "    }\n",
       "\n",
       "    .dataframe tbody tr th {\n",
       "        vertical-align: top;\n",
       "    }\n",
       "\n",
       "    .dataframe thead th {\n",
       "        text-align: right;\n",
       "    }\n",
       "</style>\n",
       "<table border=\"1\" class=\"dataframe\">\n",
       "  <thead>\n",
       "    <tr style=\"text-align: right;\">\n",
       "      <th></th>\n",
       "      <th>name</th>\n",
       "      <th>type_1</th>\n",
       "      <th>type_2</th>\n",
       "      <th>total</th>\n",
       "      <th>generation</th>\n",
       "      <th>legendary</th>\n",
       "      <th>ability</th>\n",
       "    </tr>\n",
       "  </thead>\n",
       "  <tbody>\n",
       "    <tr>\n",
       "      <th>0</th>\n",
       "      <td>Bulbasaur</td>\n",
       "      <td>Grass</td>\n",
       "      <td>Poison</td>\n",
       "      <td>318</td>\n",
       "      <td>1</td>\n",
       "      <td>False</td>\n",
       "      <td>two</td>\n",
       "    </tr>\n",
       "    <tr>\n",
       "      <th>1</th>\n",
       "      <td>Ivysaur</td>\n",
       "      <td>Grass</td>\n",
       "      <td>Poison</td>\n",
       "      <td>405</td>\n",
       "      <td>1</td>\n",
       "      <td>False</td>\n",
       "      <td>two</td>\n",
       "    </tr>\n",
       "    <tr>\n",
       "      <th>2</th>\n",
       "      <td>Venusaur</td>\n",
       "      <td>Grass</td>\n",
       "      <td>Poison</td>\n",
       "      <td>525</td>\n",
       "      <td>1</td>\n",
       "      <td>False</td>\n",
       "      <td>two</td>\n",
       "    </tr>\n",
       "    <tr>\n",
       "      <th>3</th>\n",
       "      <td>VenusaurMega Venusaur</td>\n",
       "      <td>Grass</td>\n",
       "      <td>Poison</td>\n",
       "      <td>625</td>\n",
       "      <td>1</td>\n",
       "      <td>False</td>\n",
       "      <td>two</td>\n",
       "    </tr>\n",
       "    <tr>\n",
       "      <th>6</th>\n",
       "      <td>Charizard</td>\n",
       "      <td>Fire</td>\n",
       "      <td>Flying</td>\n",
       "      <td>534</td>\n",
       "      <td>1</td>\n",
       "      <td>False</td>\n",
       "      <td>two</td>\n",
       "    </tr>\n",
       "  </tbody>\n",
       "</table>\n",
       "</div>"
      ],
      "text/plain": [
       "                    name type_1  type_2  total  generation  legendary ability\n",
       "0              Bulbasaur  Grass  Poison    318           1      False     two\n",
       "1                Ivysaur  Grass  Poison    405           1      False     two\n",
       "2               Venusaur  Grass  Poison    525           1      False     two\n",
       "3  VenusaurMega Venusaur  Grass  Poison    625           1      False     two\n",
       "6              Charizard   Fire  Flying    534           1      False     two"
      ]
     },
     "execution_count": 258,
     "metadata": {},
     "output_type": "execute_result"
    }
   ],
   "source": [
    "data_pokemon[\n",
    "             (data_pokemon['generation']==1) & # Query mencari pokemon generasi ke-1\n",
    "             (data_pokemon['legendary']==False) & # Query mencari pokemon non-legendary\n",
    "             (data_pokemon['type_2']!='None') # Query mencari pokemon yang hanya memiliki 2 elemen\n",
    "             ][['name','type_1','type_2','total','generation','legendary','ability']].head() # membatasi display kolom"
   ]
  },
  {
   "cell_type": "markdown",
   "metadata": {},
   "source": [
    "Query di atas menampilkan pokemon (normal) generasi pertama yang memiliki 2 elemen."
   ]
  },
  {
   "cell_type": "code",
   "execution_count": 259,
   "metadata": {},
   "outputs": [
    {
     "data": {
      "text/html": [
       "<div>\n",
       "<style scoped>\n",
       "    .dataframe tbody tr th:only-of-type {\n",
       "        vertical-align: middle;\n",
       "    }\n",
       "\n",
       "    .dataframe tbody tr th {\n",
       "        vertical-align: top;\n",
       "    }\n",
       "\n",
       "    .dataframe thead th {\n",
       "        text-align: right;\n",
       "    }\n",
       "</style>\n",
       "<table border=\"1\" class=\"dataframe\">\n",
       "  <thead>\n",
       "    <tr style=\"text-align: right;\">\n",
       "      <th></th>\n",
       "      <th>name</th>\n",
       "      <th>type_1</th>\n",
       "      <th>type_2</th>\n",
       "      <th>generation</th>\n",
       "      <th>legendary</th>\n",
       "      <th>ability</th>\n",
       "    </tr>\n",
       "  </thead>\n",
       "  <tbody>\n",
       "    <tr>\n",
       "      <th>162</th>\n",
       "      <td>Mewtwo</td>\n",
       "      <td>Psychic</td>\n",
       "      <td>None</td>\n",
       "      <td>1</td>\n",
       "      <td>True</td>\n",
       "      <td>one</td>\n",
       "    </tr>\n",
       "    <tr>\n",
       "      <th>164</th>\n",
       "      <td>MewtwoMega Mewtwo Y</td>\n",
       "      <td>Psychic</td>\n",
       "      <td>None</td>\n",
       "      <td>1</td>\n",
       "      <td>True</td>\n",
       "      <td>one</td>\n",
       "    </tr>\n",
       "  </tbody>\n",
       "</table>\n",
       "</div>"
      ],
      "text/plain": [
       "                    name   type_1 type_2  generation  legendary ability\n",
       "162               Mewtwo  Psychic   None           1       True     one\n",
       "164  MewtwoMega Mewtwo Y  Psychic   None           1       True     one"
      ]
     },
     "execution_count": 259,
     "metadata": {},
     "output_type": "execute_result"
    }
   ],
   "source": [
    "data_pokemon[\n",
    "             (data_pokemon['generation']==1) & # Query mencari pokemon generasi ke-1\n",
    "             (data_pokemon['legendary']==True) & # Query mencari pokemon legendary\n",
    "             (data_pokemon['type_2']=='None') # Query mencari pokemon yang hanya memiliki 1 elemen\n",
    "             ][['name','type_1','type_2','generation','legendary','ability']].head(5)"
   ]
  },
  {
   "cell_type": "markdown",
   "metadata": {},
   "source": [
    "Query di atas menampilkan pokemon (legendary) generasi pertama yang hanya memiliki 1 elemen."
   ]
  },
  {
   "cell_type": "code",
   "execution_count": 260,
   "metadata": {},
   "outputs": [
    {
     "data": {
      "text/html": [
       "<div>\n",
       "<style scoped>\n",
       "    .dataframe tbody tr th:only-of-type {\n",
       "        vertical-align: middle;\n",
       "    }\n",
       "\n",
       "    .dataframe tbody tr th {\n",
       "        vertical-align: top;\n",
       "    }\n",
       "\n",
       "    .dataframe thead th {\n",
       "        text-align: right;\n",
       "    }\n",
       "</style>\n",
       "<table border=\"1\" class=\"dataframe\">\n",
       "  <thead>\n",
       "    <tr style=\"text-align: right;\">\n",
       "      <th></th>\n",
       "      <th>name</th>\n",
       "      <th>type_1</th>\n",
       "      <th>type_2</th>\n",
       "      <th>total</th>\n",
       "      <th>generation</th>\n",
       "      <th>legendary</th>\n",
       "    </tr>\n",
       "  </thead>\n",
       "  <tbody>\n",
       "    <tr>\n",
       "      <th>156</th>\n",
       "      <td>Articuno</td>\n",
       "      <td>Ice</td>\n",
       "      <td>Flying</td>\n",
       "      <td>580</td>\n",
       "      <td>1</td>\n",
       "      <td>True</td>\n",
       "    </tr>\n",
       "    <tr>\n",
       "      <th>157</th>\n",
       "      <td>Zapdos</td>\n",
       "      <td>Electric</td>\n",
       "      <td>Flying</td>\n",
       "      <td>580</td>\n",
       "      <td>1</td>\n",
       "      <td>True</td>\n",
       "    </tr>\n",
       "    <tr>\n",
       "      <th>158</th>\n",
       "      <td>Moltres</td>\n",
       "      <td>Fire</td>\n",
       "      <td>Flying</td>\n",
       "      <td>580</td>\n",
       "      <td>1</td>\n",
       "      <td>True</td>\n",
       "    </tr>\n",
       "  </tbody>\n",
       "</table>\n",
       "</div>"
      ],
      "text/plain": [
       "         name    type_1  type_2  total  generation  legendary\n",
       "156  Articuno       Ice  Flying    580           1       True\n",
       "157    Zapdos  Electric  Flying    580           1       True\n",
       "158   Moltres      Fire  Flying    580           1       True"
      ]
     },
     "execution_count": 260,
     "metadata": {},
     "output_type": "execute_result"
    }
   ],
   "source": [
    "best_gen1_normal = data_pokemon[(data_pokemon['generation']==1) & (data_pokemon['legendary']==False)].max() # Mencari normal pokemon dengan stats paling tinggi\n",
    "# Membandingkan pokemon (legendary) dengan pokemon (normal) yang memiliki total stats tertinggi.\n",
    "data_pokemon[\n",
    "             (data_pokemon['generation']==1) & # Mencari pokemon generasi ke-1\n",
    "             (data_pokemon['legendary']==True) & # Mencari pokemon legendary\n",
    "             (data_pokemon['total'] < best_gen1_normal.total) # Mencari total stats pokemon legendary yang lebih rendah dari total stats pokemon normal\n",
    "             ][['name','type_1','type_2','total','generation','legendary']].head(5) # Membatasi display kolom"
   ]
  },
  {
   "cell_type": "markdown",
   "metadata": {},
   "source": [
    "Query di atas menampilkan pokemon (legendary) generasi pertama dengan total stats lebih rendah dari pokemon (normal) generasi pertama."
   ]
  },
  {
   "cell_type": "markdown",
   "metadata": {},
   "source": [
    "### Grouping and Aggregating"
   ]
  },
  {
   "cell_type": "code",
   "execution_count": 261,
   "metadata": {},
   "outputs": [
    {
     "data": {
      "text/plain": [
       "generation  legendary\n",
       "1           False        160\n",
       "            True           6\n",
       "2           False        101\n",
       "            True           5\n",
       "3           False        142\n",
       "            True          18\n",
       "4           False        108\n",
       "            True          13\n",
       "5           False        150\n",
       "            True          15\n",
       "6           False         74\n",
       "            True           8\n",
       "dtype: int64"
      ]
     },
     "execution_count": 261,
     "metadata": {},
     "output_type": "execute_result"
    }
   ],
   "source": [
    "data_pokemon.groupby(by=['generation','legendary']).size() # menampilkan informasi berdasarkan kelompok kolom generation dan legendary"
   ]
  },
  {
   "cell_type": "markdown",
   "metadata": {},
   "source": [
    "#### Berapa banyak pokemon normal dan pokemon legendary disetiap generasinya?"
   ]
  },
  {
   "cell_type": "markdown",
   "metadata": {},
   "source": [
    "Pada pengelompokkan data di atas, terdiri dari:\n",
    "\n",
    "| Generation | Normal Pokemon | Legendary Pokemon |\n",
    "| --- | --- | --- |\n",
    "| 1 | 160 | 6 |\n",
    "| 2 | 101 | 5 |\n",
    "| 3 | 142 | 18 |\n",
    "| 4 | 108 | 13 |\n",
    "| 5 | 150 | 15 |\n",
    "| 6 | 74 | 8 |"
   ]
  },
  {
   "cell_type": "markdown",
   "metadata": {},
   "source": [
    "##### Visualisation"
   ]
  },
  {
   "cell_type": "code",
   "execution_count": 262,
   "metadata": {},
   "outputs": [
    {
     "data": {
      "text/plain": [
       "<AxesSubplot:title={'center':'Normal Pokemon & Legendary Pokemon In Every Generation'}, ylabel='generation,legendary'>"
      ]
     },
     "execution_count": 262,
     "metadata": {},
     "output_type": "execute_result"
    },
    {
     "data": {
      "image/png": "[encoded data removed]",
      "text/plain": [
       "<Figure size 720x360 with 1 Axes>"
      ]
     },
     "metadata": {
      "needs_background": "light"
     },
     "output_type": "display_data"
    }
   ],
   "source": [
    "data_pokemon.groupby(by=['generation','legendary']).size().sort_values().plot(figsize=(10,5), kind='barh', title='Normal Pokemon & Legendary Pokemon In Every Generation')"
   ]
  },
  {
   "cell_type": "markdown",
   "metadata": {},
   "source": [
    "Dari visualisasi data di atas diketahui bawha normal pokemon generasi pertama, generasi kelima, dan generasi ketiga yang paling sering muncul. "
   ]
  },
  {
   "cell_type": "code",
   "execution_count": 263,
   "metadata": {},
   "outputs": [
    {
     "data": {
      "text/html": [
       "<div>\n",
       "<style scoped>\n",
       "    .dataframe tbody tr th:only-of-type {\n",
       "        vertical-align: middle;\n",
       "    }\n",
       "\n",
       "    .dataframe tbody tr th {\n",
       "        vertical-align: top;\n",
       "    }\n",
       "\n",
       "    .dataframe thead th {\n",
       "        text-align: right;\n",
       "    }\n",
       "</style>\n",
       "<table border=\"1\" class=\"dataframe\">\n",
       "  <thead>\n",
       "    <tr style=\"text-align: right;\">\n",
       "      <th></th>\n",
       "      <th></th>\n",
       "      <th>total</th>\n",
       "    </tr>\n",
       "    <tr>\n",
       "      <th>generation</th>\n",
       "      <th>legendary</th>\n",
       "      <th></th>\n",
       "    </tr>\n",
       "  </thead>\n",
       "  <tbody>\n",
       "    <tr>\n",
       "      <th rowspan=\"2\" valign=\"top\">1</th>\n",
       "      <th>False</th>\n",
       "      <td>417.943750</td>\n",
       "    </tr>\n",
       "    <tr>\n",
       "      <th>True</th>\n",
       "      <td>663.333333</td>\n",
       "    </tr>\n",
       "    <tr>\n",
       "      <th rowspan=\"2\" valign=\"top\">2</th>\n",
       "      <th>False</th>\n",
       "      <td>408.297030</td>\n",
       "    </tr>\n",
       "    <tr>\n",
       "      <th>True</th>\n",
       "      <td>620.000000</td>\n",
       "    </tr>\n",
       "    <tr>\n",
       "      <th rowspan=\"2\" valign=\"top\">3</th>\n",
       "      <th>False</th>\n",
       "      <td>409.267606</td>\n",
       "    </tr>\n",
       "    <tr>\n",
       "      <th>True</th>\n",
       "      <td>648.888889</td>\n",
       "    </tr>\n",
       "    <tr>\n",
       "      <th rowspan=\"2\" valign=\"top\">4</th>\n",
       "      <th>False</th>\n",
       "      <td>437.879630</td>\n",
       "    </tr>\n",
       "    <tr>\n",
       "      <th>True</th>\n",
       "      <td>634.615385</td>\n",
       "    </tr>\n",
       "    <tr>\n",
       "      <th rowspan=\"2\" valign=\"top\">5</th>\n",
       "      <th>False</th>\n",
       "      <td>416.620000</td>\n",
       "    </tr>\n",
       "    <tr>\n",
       "      <th>True</th>\n",
       "      <td>618.666667</td>\n",
       "    </tr>\n",
       "    <tr>\n",
       "      <th rowspan=\"2\" valign=\"top\">6</th>\n",
       "      <th>False</th>\n",
       "      <td>414.094595</td>\n",
       "    </tr>\n",
       "    <tr>\n",
       "      <th>True</th>\n",
       "      <td>642.500000</td>\n",
       "    </tr>\n",
       "  </tbody>\n",
       "</table>\n",
       "</div>"
      ],
      "text/plain": [
       "                           total\n",
       "generation legendary            \n",
       "1          False      417.943750\n",
       "           True       663.333333\n",
       "2          False      408.297030\n",
       "           True       620.000000\n",
       "3          False      409.267606\n",
       "           True       648.888889\n",
       "4          False      437.879630\n",
       "           True       634.615385\n",
       "5          False      416.620000\n",
       "           True       618.666667\n",
       "6          False      414.094595\n",
       "           True       642.500000"
      ]
     },
     "execution_count": 263,
     "metadata": {},
     "output_type": "execute_result"
    }
   ],
   "source": [
    "data_pokemon.groupby(by=['generation','legendary'])[['total']].mean()"
   ]
  },
  {
   "cell_type": "markdown",
   "metadata": {},
   "source": [
    "#### Berapa rata-rata `total stats` pokemon normal dan pokemon legendary disetiap generasinya?"
   ]
  },
  {
   "cell_type": "markdown",
   "metadata": {},
   "source": [
    "Rata-rata `total stats` pokemon pada dataframe `data_pokemon`, yaitu:\n",
    "\n",
    "| Generation | Mean Pokemon Normal | Mean Pokemon Legendary |\n",
    "| --- | --- | --- |\n",
    "| 1 | 418 pts. | 663 pts. |\n",
    "| 2 | 408 pts. | 620 pts. |\n",
    "| 3 | 409 pts. | 649 pts. |\n",
    "| 4 | 438 pts. | 635 pts. |\n",
    "| 5 | 417 pts. | 619 pts. |\n",
    "| 6 | 414 pts. | 642 pts. |"
   ]
  },
  {
   "cell_type": "markdown",
   "metadata": {},
   "source": [
    "##### Visualisation"
   ]
  },
  {
   "cell_type": "code",
   "execution_count": 264,
   "metadata": {},
   "outputs": [
    {
     "data": {
      "text/plain": [
       "<AxesSubplot:title={'center':'Mean Normal & Legendary Pokemon In Every Generation'}, xlabel='generation,legendary'>"
      ]
     },
     "execution_count": 264,
     "metadata": {},
     "output_type": "execute_result"
    },
    {
     "data": {
      "image/png": "[encoded data removed]",
      "text/plain": [
       "<Figure size 720x360 with 1 Axes>"
      ]
     },
     "metadata": {
      "needs_background": "light"
     },
     "output_type": "display_data"
    }
   ],
   "source": [
    "data_pokemon.groupby(by=['generation','legendary'])[['total']].mean().plot(figsize=(10,5), kind='bar', title='Mean Normal & Legendary Pokemon In Every Generation')"
   ]
  },
  {
   "cell_type": "markdown",
   "metadata": {},
   "source": [
    "Dari visualisasi data di atas diketahui bawha pokemon legendary pada generasi pertama memiliki rata-rata total stats paling tinggi."
   ]
  },
  {
   "cell_type": "code",
   "execution_count": 265,
   "metadata": {},
   "outputs": [
    {
     "data": {
      "text/plain": [
       "generation  ability  legendary\n",
       "1           one      False        86\n",
       "                     True          2\n",
       "            two      False        74\n",
       "                     True          4\n",
       "2           one      False        48\n",
       "                     True          3\n",
       "            two      False        53\n",
       "                     True          2\n",
       "3           one      False        68\n",
       "                     True         10\n",
       "            two      False        74\n",
       "                     True          8\n",
       "4           one      False        47\n",
       "                     True          7\n",
       "            two      False        61\n",
       "                     True          6\n",
       "5           one      False        81\n",
       "                     True          2\n",
       "            two      False        69\n",
       "                     True         13\n",
       "6           one      False        31\n",
       "                     True          1\n",
       "            two      False        43\n",
       "                     True          7\n",
       "dtype: int64"
      ]
     },
     "execution_count": 265,
     "metadata": {},
     "output_type": "execute_result"
    }
   ],
   "source": [
    "data_pokemon.groupby(by=['generation','ability','legendary']).size()"
   ]
  },
  {
   "cell_type": "markdown",
   "metadata": {},
   "source": [
    "Menampilkan data yang sudah dikelompokkan berdasarkan generasi, ability, dan legendary:\n",
    "\n",
    "| Generation | elements | Normal Pokemon | Legendary Pokemon |\n",
    "| --- | --- | --- | --- |\n",
    "| 1 | 1 | 86 | 2 |\n",
    "|  | 2 | 74 | 4 |\n",
    "| 2 | 1 | 48 | 3 |\n",
    "|  | 2 | 53 | 2 |\n",
    "| 3 | 1 | 68 | 10 |\n",
    "|  | 2 | 74 | 8 |\n",
    "| 4 | 1 | 47 | 7 |\n",
    "|  | 2 | 61 | 6 |\n",
    "| 5 | 1 | 81 | 2 |\n",
    "|  | 2 | 69 | 13 |\n",
    "| 6 | 1 | 31 | 1 |\n",
    "|  | 2 | 43 | 7 |"
   ]
  },
  {
   "cell_type": "markdown",
   "metadata": {},
   "source": [
    "#### Berapa selisih/perbandingan `total stats` pokemon (normal) yang memiliki 1 kemampuan, dengan pokemon (normal) yang memiliki 2 kemampuan disetiap generasinya? (berdasarkan total stats tertinggi)"
   ]
  },
  {
   "cell_type": "markdown",
   "metadata": {},
   "source": [
    "Pokemon normal yang memiliki 1 dan 2 elemen dengan `total stats` tertinggi di setiap generasinnya adalah:"
   ]
  },
  {
   "cell_type": "code",
   "execution_count": 266,
   "metadata": {},
   "outputs": [
    {
     "data": {
      "text/html": [
       "<div>\n",
       "<style scoped>\n",
       "    .dataframe tbody tr th:only-of-type {\n",
       "        vertical-align: middle;\n",
       "    }\n",
       "\n",
       "    .dataframe tbody tr th {\n",
       "        vertical-align: top;\n",
       "    }\n",
       "\n",
       "    .dataframe thead th {\n",
       "        text-align: right;\n",
       "    }\n",
       "</style>\n",
       "<table border=\"1\" class=\"dataframe\">\n",
       "  <thead>\n",
       "    <tr style=\"text-align: right;\">\n",
       "      <th></th>\n",
       "      <th></th>\n",
       "      <th></th>\n",
       "      <th>name</th>\n",
       "      <th>total</th>\n",
       "    </tr>\n",
       "    <tr>\n",
       "      <th>generation</th>\n",
       "      <th>ability</th>\n",
       "      <th>legendary</th>\n",
       "      <th></th>\n",
       "      <th></th>\n",
       "    </tr>\n",
       "  </thead>\n",
       "  <tbody>\n",
       "    <tr>\n",
       "      <th rowspan=\"2\" valign=\"top\">1</th>\n",
       "      <th>one</th>\n",
       "      <th>False</th>\n",
       "      <td>Weezing</td>\n",
       "      <td>630</td>\n",
       "    </tr>\n",
       "    <tr>\n",
       "      <th>two</th>\n",
       "      <th>False</th>\n",
       "      <td>Zubat</td>\n",
       "      <td>640</td>\n",
       "    </tr>\n",
       "    <tr>\n",
       "      <th rowspan=\"2\" valign=\"top\">2</th>\n",
       "      <th>one</th>\n",
       "      <th>False</th>\n",
       "      <td>Wobbuffet</td>\n",
       "      <td>540</td>\n",
       "    </tr>\n",
       "    <tr>\n",
       "      <th>two</th>\n",
       "      <th>False</th>\n",
       "      <td>Yanma</td>\n",
       "      <td>700</td>\n",
       "    </tr>\n",
       "    <tr>\n",
       "      <th rowspan=\"2\" valign=\"top\">3</th>\n",
       "      <th>one</th>\n",
       "      <th>False</th>\n",
       "      <td>Zigzagoon</td>\n",
       "      <td>670</td>\n",
       "    </tr>\n",
       "    <tr>\n",
       "      <th>two</th>\n",
       "      <th>False</th>\n",
       "      <td>Wingull</td>\n",
       "      <td>700</td>\n",
       "    </tr>\n",
       "    <tr>\n",
       "      <th rowspan=\"2\" valign=\"top\">4</th>\n",
       "      <th>one</th>\n",
       "      <th>False</th>\n",
       "      <td>Turtwig</td>\n",
       "      <td>600</td>\n",
       "    </tr>\n",
       "    <tr>\n",
       "      <th>two</th>\n",
       "      <th>False</th>\n",
       "      <td>Yanmega</td>\n",
       "      <td>700</td>\n",
       "    </tr>\n",
       "    <tr>\n",
       "      <th rowspan=\"2\" valign=\"top\">5</th>\n",
       "      <th>one</th>\n",
       "      <th>False</th>\n",
       "      <td>Zorua</td>\n",
       "      <td>540</td>\n",
       "    </tr>\n",
       "    <tr>\n",
       "      <th>two</th>\n",
       "      <th>False</th>\n",
       "      <td>Zweilous</td>\n",
       "      <td>600</td>\n",
       "    </tr>\n",
       "    <tr>\n",
       "      <th rowspan=\"2\" valign=\"top\">6</th>\n",
       "      <th>one</th>\n",
       "      <th>False</th>\n",
       "      <td>Sylveon</td>\n",
       "      <td>600</td>\n",
       "    </tr>\n",
       "    <tr>\n",
       "      <th>two</th>\n",
       "      <th>False</th>\n",
       "      <td>Vivillon</td>\n",
       "      <td>535</td>\n",
       "    </tr>\n",
       "  </tbody>\n",
       "</table>\n",
       "</div>"
      ],
      "text/plain": [
       "                                   name  total\n",
       "generation ability legendary                  \n",
       "1          one     False        Weezing    630\n",
       "           two     False          Zubat    640\n",
       "2          one     False      Wobbuffet    540\n",
       "           two     False          Yanma    700\n",
       "3          one     False      Zigzagoon    670\n",
       "           two     False        Wingull    700\n",
       "4          one     False        Turtwig    600\n",
       "           two     False        Yanmega    700\n",
       "5          one     False          Zorua    540\n",
       "           two     False       Zweilous    600\n",
       "6          one     False        Sylveon    600\n",
       "           two     False       Vivillon    535"
      ]
     },
     "execution_count": 266,
     "metadata": {},
     "output_type": "execute_result"
    }
   ],
   "source": [
    "normal_pokemon = data_pokemon[(data_pokemon['legendary']==False)].groupby(by=['generation','ability','legendary'])[['name','total']].max()\n",
    "normal_pokemon.head(15)"
   ]
  },
  {
   "cell_type": "markdown",
   "metadata": {},
   "source": [
    "##### Visualisation"
   ]
  },
  {
   "cell_type": "code",
   "execution_count": 267,
   "metadata": {},
   "outputs": [
    {
     "data": {
      "text/plain": [
       "<AxesSubplot:title={'center':'Normal Pokemon Stats'}, ylabel='Group'>"
      ]
     },
     "execution_count": 267,
     "metadata": {},
     "output_type": "execute_result"
    },
    {
     "data": {
      "image/png": "[encoded data removed]",
      "text/plain": [
       "<Figure size 720x360 with 1 Axes>"
      ]
     },
     "metadata": {
      "needs_background": "light"
     },
     "output_type": "display_data"
    }
   ],
   "source": [
    "normal_pokemon = data_pokemon[(data_pokemon['legendary']==False)].groupby(by=['generation','ability','legendary']).max()\n",
    "normal_pokemon['total'].plot(kind='barh', xlabel='Group', title='Normal Pokemon Stats', figsize=(10,5))"
   ]
  },
  {
   "cell_type": "markdown",
   "metadata": {},
   "source": [
    "Diketahui terdapat 3 pokemon yang memiliki total stats yang sama, yaitu:\n",
    "- pokemon normal pada generasi kedua yang memiliki 2 elemen.\n",
    "- pokemon normal pada generasi ketiga yang memiliki 2 elemen.\n",
    "- pokemon normal pada generasi keempat yang memiliki 2 elemen."
   ]
  },
  {
   "cell_type": "markdown",
   "metadata": {},
   "source": [
    "#### Berapa selisih/perbandingan `total stats` pokemon (legendary) yang memiliki 1 kemampuan, dengan pokemon (legendary) yang memiliki 2 kemampuan disetiap generasinya? (berdasarkan total stats tertinggi)"
   ]
  },
  {
   "cell_type": "markdown",
   "metadata": {},
   "source": [
    "Pokemon legendary yang memiliki 1 dan 2 elemen dengan `total stats` tertinggi di setiap generasinnya adalah:"
   ]
  },
  {
   "cell_type": "code",
   "execution_count": 268,
   "metadata": {},
   "outputs": [
    {
     "data": {
      "text/html": [
       "<div>\n",
       "<style scoped>\n",
       "    .dataframe tbody tr th:only-of-type {\n",
       "        vertical-align: middle;\n",
       "    }\n",
       "\n",
       "    .dataframe tbody tr th {\n",
       "        vertical-align: top;\n",
       "    }\n",
       "\n",
       "    .dataframe thead th {\n",
       "        text-align: right;\n",
       "    }\n",
       "</style>\n",
       "<table border=\"1\" class=\"dataframe\">\n",
       "  <thead>\n",
       "    <tr style=\"text-align: right;\">\n",
       "      <th></th>\n",
       "      <th></th>\n",
       "      <th></th>\n",
       "      <th>name</th>\n",
       "      <th>total</th>\n",
       "    </tr>\n",
       "    <tr>\n",
       "      <th>generation</th>\n",
       "      <th>ability</th>\n",
       "      <th>legendary</th>\n",
       "      <th></th>\n",
       "      <th></th>\n",
       "    </tr>\n",
       "  </thead>\n",
       "  <tbody>\n",
       "    <tr>\n",
       "      <th rowspan=\"2\" valign=\"top\">1</th>\n",
       "      <th>one</th>\n",
       "      <th>True</th>\n",
       "      <td>MewtwoMega Mewtwo Y</td>\n",
       "      <td>780</td>\n",
       "    </tr>\n",
       "    <tr>\n",
       "      <th>two</th>\n",
       "      <th>True</th>\n",
       "      <td>Zapdos</td>\n",
       "      <td>780</td>\n",
       "    </tr>\n",
       "    <tr>\n",
       "      <th rowspan=\"2\" valign=\"top\">2</th>\n",
       "      <th>one</th>\n",
       "      <th>True</th>\n",
       "      <td>Suicune</td>\n",
       "      <td>580</td>\n",
       "    </tr>\n",
       "    <tr>\n",
       "      <th>two</th>\n",
       "      <th>True</th>\n",
       "      <td>Lugia</td>\n",
       "      <td>680</td>\n",
       "    </tr>\n",
       "    <tr>\n",
       "      <th rowspan=\"2\" valign=\"top\">3</th>\n",
       "      <th>one</th>\n",
       "      <th>True</th>\n",
       "      <td>Registeel</td>\n",
       "      <td>770</td>\n",
       "    </tr>\n",
       "    <tr>\n",
       "      <th>two</th>\n",
       "      <th>True</th>\n",
       "      <td>RayquazaMega Rayquaza</td>\n",
       "      <td>780</td>\n",
       "    </tr>\n",
       "    <tr>\n",
       "      <th rowspan=\"2\" valign=\"top\">4</th>\n",
       "      <th>one</th>\n",
       "      <th>True</th>\n",
       "      <td>Uxie</td>\n",
       "      <td>720</td>\n",
       "    </tr>\n",
       "    <tr>\n",
       "      <th>two</th>\n",
       "      <th>True</th>\n",
       "      <td>ShayminSky Forme</td>\n",
       "      <td>680</td>\n",
       "    </tr>\n",
       "    <tr>\n",
       "      <th rowspan=\"2\" valign=\"top\">5</th>\n",
       "      <th>one</th>\n",
       "      <th>True</th>\n",
       "      <td>TornadusTherian Forme</td>\n",
       "      <td>580</td>\n",
       "    </tr>\n",
       "    <tr>\n",
       "      <th>two</th>\n",
       "      <th>True</th>\n",
       "      <td>Zekrom</td>\n",
       "      <td>700</td>\n",
       "    </tr>\n",
       "    <tr>\n",
       "      <th rowspan=\"2\" valign=\"top\">6</th>\n",
       "      <th>one</th>\n",
       "      <th>True</th>\n",
       "      <td>Xerneas</td>\n",
       "      <td>680</td>\n",
       "    </tr>\n",
       "    <tr>\n",
       "      <th>two</th>\n",
       "      <th>True</th>\n",
       "      <td>Zygarde50% Forme</td>\n",
       "      <td>700</td>\n",
       "    </tr>\n",
       "  </tbody>\n",
       "</table>\n",
       "</div>"
      ],
      "text/plain": [
       "                                               name  total\n",
       "generation ability legendary                              \n",
       "1          one     True         MewtwoMega Mewtwo Y    780\n",
       "           two     True                      Zapdos    780\n",
       "2          one     True                     Suicune    580\n",
       "           two     True                       Lugia    680\n",
       "3          one     True                   Registeel    770\n",
       "           two     True       RayquazaMega Rayquaza    780\n",
       "4          one     True                        Uxie    720\n",
       "           two     True            ShayminSky Forme    680\n",
       "5          one     True       TornadusTherian Forme    580\n",
       "           two     True                      Zekrom    700\n",
       "6          one     True                     Xerneas    680\n",
       "           two     True            Zygarde50% Forme    700"
      ]
     },
     "execution_count": 268,
     "metadata": {},
     "output_type": "execute_result"
    }
   ],
   "source": [
    "legendary_pokemon = data_pokemon[(data_pokemon['legendary']==True)].groupby(by=['generation','ability','legendary'])[['name','total']].max()\n",
    "legendary_pokemon.head(15)"
   ]
  },
  {
   "cell_type": "code",
   "execution_count": 269,
   "metadata": {},
   "outputs": [
    {
     "data": {
      "text/plain": [
       "<AxesSubplot:title={'center':'Legendary Pokemon Stats'}, xlabel='Group'>"
      ]
     },
     "execution_count": 269,
     "metadata": {},
     "output_type": "execute_result"
    },
    {
     "data": {
      "image/png": "[encoded data removed]",
      "text/plain": [
       "<Figure size 720x360 with 1 Axes>"
      ]
     },
     "metadata": {
      "needs_background": "light"
     },
     "output_type": "display_data"
    }
   ],
   "source": [
    "legendary_pokemon = data_pokemon[(data_pokemon['legendary']==True)].groupby(by=['generation','ability','legendary']).max()\n",
    "legendary_pokemon['total'].plot(kind='line', xlabel='Group', title='Legendary Pokemon Stats', figsize=(10,5))"
   ]
  },
  {
   "cell_type": "markdown",
   "metadata": {},
   "source": [
    "Diketahui terdapat 2 pokemon legendary yang memiliki total stats terendah yang sama, yaitu:\n",
    "- pokemon legendary pada generasi kedua yang memiliki 1 elemen.\n",
    "- pokemon legendary pada generasi kelima yang memiliki 1 elemen."
   ]
  },
  {
   "cell_type": "markdown",
   "metadata": {},
   "source": [
    "### Siapa yang akan bertahan jika pokemon (normal) yang memiliki `total stats` tertinggi bertarung dengan pokemon (legendary) yang memiliki `total stats` tertinggi?"
   ]
  },
  {
   "cell_type": "code",
   "execution_count": 270,
   "metadata": {},
   "outputs": [
    {
     "data": {
      "text/plain": [
       "name          Zweilous\n",
       "type_1           Water\n",
       "type_2           Water\n",
       "total              700\n",
       "hp                 255\n",
       "attack             185\n",
       "defense            230\n",
       "sp_atk             175\n",
       "sp_def             230\n",
       "speed              160\n",
       "generation           6\n",
       "legendary        False\n",
       "ability            two\n",
       "dtype: object"
      ]
     },
     "execution_count": 270,
     "metadata": {},
     "output_type": "execute_result"
    }
   ],
   "source": [
    "pokemon_normal = data_pokemon[(data_pokemon['legendary']==False)].max() # Mencari pokemon normal dengan total stats tertinggi\n",
    "pokemon_normal # menammpilkan informasi pokemon"
   ]
  },
  {
   "cell_type": "markdown",
   "metadata": {},
   "source": [
    "Pokemon normal yang memiliki total stats tertinggi adalah Zweilous dengan total stats 700 points"
   ]
  },
  {
   "cell_type": "code",
   "execution_count": 271,
   "metadata": {},
   "outputs": [
    {
     "data": {
      "text/plain": [
       "name          Zygarde50% Forme\n",
       "type_1                   Water\n",
       "type_2                   Water\n",
       "total                      780\n",
       "hp                         150\n",
       "attack                     190\n",
       "defense                    200\n",
       "sp_atk                     194\n",
       "sp_def                     200\n",
       "speed                      180\n",
       "generation                   6\n",
       "legendary                 True\n",
       "ability                    two\n",
       "dtype: object"
      ]
     },
     "execution_count": 271,
     "metadata": {},
     "output_type": "execute_result"
    }
   ],
   "source": [
    "pokemon_legendary = data_pokemon[(data_pokemon['legendary']==True)].max() # Mencari pokemon legendary dengan total stats tertinggi\n",
    "pokemon_legendary # menammpilkan informasi pokemon"
   ]
  },
  {
   "cell_type": "markdown",
   "metadata": {},
   "source": [
    "Pokemon legendary yang memiliki total stats tertinggi adalah Zygarde50% Forme dengan total stats 780 points"
   ]
  },
  {
   "cell_type": "markdown",
   "metadata": {},
   "source": [
    "Membuat fungsi simulasi battle sederhana berdasarkan formula sederhana, dengan beberapa kondisi yaitu:\n",
    "- jika speed pokemon A lebih kecil dari pokemon B, maka pokemon B terlebih dahulu yang menyerang\n",
    "- damage yang diterima jika spesial attack tidak aktif adalah : attack_pokemon_B / defense_pokemon_A\n",
    "- damage yang diterima jika spesial attack aktif adalah : sp_atk_pokemon_B / sp_defense_pokemon_A"
   ]
  },
  {
   "cell_type": "code",
   "execution_count": 272,
   "metadata": {},
   "outputs": [
    {
     "name": "stdout",
     "output_type": "stream",
     "text": [
      "Rounde: 1\n",
      "Zweilous Hp: 254.17391304347825\n",
      "Zygarde50% Forme Hp: 149.075\n",
      "Rounde: 2\n",
      "Zweilous Hp: 253.3478260869565\n",
      "Zygarde50% Forme Hp: 148.14999999999998\n",
      "Rounde: 3\n",
      "Zweilous Hp: 252.52173913043475\n",
      "Zygarde50% Forme Hp: 147.22499999999997\n",
      "Rounde: 4\n",
      "Zweilous Hp: 251.695652173913\n",
      "Zygarde50% Forme Hp: 146.29999999999995\n",
      "Rounde: 5\n",
      "Zweilous Hp: 250.86956521739125\n",
      "Zygarde50% Forme Hp: 145.37499999999994\n",
      "Rounde: 6\n",
      "Zweilous Hp: 250.02608695652168\n",
      "Zygarde50% Forme Hp: 144.49999999999994\n",
      "Rounde: 7\n",
      "Zweilous Hp: 249.19999999999993\n",
      "Zygarde50% Forme Hp: 143.57499999999993\n",
      "Rounde: 8\n",
      "Zweilous Hp: 248.37391304347818\n",
      "Zygarde50% Forme Hp: 142.64999999999992\n",
      "Rounde: 9\n",
      "Zweilous Hp: 247.54782608695643\n",
      "Zygarde50% Forme Hp: 141.7249999999999\n",
      "Rounde: 10\n",
      "Zweilous Hp: 246.72173913043468\n",
      "Zygarde50% Forme Hp: 140.7999999999999\n",
      "Rounde: 11\n",
      "Zweilous Hp: 245.8782608695651\n",
      "Zygarde50% Forme Hp: 139.9249999999999\n",
      "Rounde: 12\n",
      "Zweilous Hp: 245.05217391304336\n",
      "Zygarde50% Forme Hp: 138.9999999999999\n",
      "Rounde: 13\n",
      "Zweilous Hp: 244.2260869565216\n",
      "Zygarde50% Forme Hp: 138.07499999999987\n",
      "Rounde: 14\n",
      "Zweilous Hp: 243.39999999999986\n",
      "Zygarde50% Forme Hp: 137.14999999999986\n",
      "Rounde: 15\n",
      "Zweilous Hp: 242.57391304347811\n",
      "Zygarde50% Forme Hp: 136.22499999999985\n",
      "Rounde: 16\n",
      "Zweilous Hp: 241.73043478260854\n",
      "Zygarde50% Forme Hp: 135.34999999999985\n",
      "Rounde: 17\n",
      "Zweilous Hp: 240.9043478260868\n",
      "Zygarde50% Forme Hp: 134.42499999999984\n",
      "Rounde: 18\n",
      "Zweilous Hp: 240.07826086956504\n",
      "Zygarde50% Forme Hp: 133.49999999999983\n",
      "Rounde: 19\n",
      "Zweilous Hp: 239.2521739130433\n",
      "Zygarde50% Forme Hp: 132.57499999999982\n",
      "Rounde: 20\n",
      "Zweilous Hp: 238.42608695652154\n",
      "Zygarde50% Forme Hp: 131.6499999999998\n",
      "Rounde: 21\n",
      "Zweilous Hp: 237.58260869565197\n",
      "Zygarde50% Forme Hp: 130.7749999999998\n",
      "Rounde: 22\n",
      "Zweilous Hp: 236.75652173913022\n",
      "Zygarde50% Forme Hp: 129.8499999999998\n",
      "Rounde: 23\n",
      "Zweilous Hp: 235.93043478260847\n",
      "Zygarde50% Forme Hp: 128.92499999999978\n",
      "Rounde: 24\n",
      "Zweilous Hp: 235.10434782608672\n",
      "Zygarde50% Forme Hp: 127.99999999999979\n",
      "Rounde: 25\n",
      "Zweilous Hp: 234.27826086956497\n",
      "Zygarde50% Forme Hp: 127.07499999999979\n",
      "Rounde: 26\n",
      "Zweilous Hp: 233.4347826086954\n",
      "Zygarde50% Forme Hp: 126.19999999999979\n",
      "Rounde: 27\n",
      "Zweilous Hp: 232.60869565217365\n",
      "Zygarde50% Forme Hp: 125.27499999999979\n",
      "Rounde: 28\n",
      "Zweilous Hp: 231.7826086956519\n",
      "Zygarde50% Forme Hp: 124.3499999999998\n",
      "Rounde: 29\n",
      "Zweilous Hp: 230.95652173913015\n",
      "Zygarde50% Forme Hp: 123.4249999999998\n",
      "Rounde: 30\n",
      "Zweilous Hp: 230.1304347826084\n",
      "Zygarde50% Forme Hp: 122.4999999999998\n",
      "Rounde: 31\n",
      "Zweilous Hp: 229.28695652173883\n",
      "Zygarde50% Forme Hp: 121.6249999999998\n",
      "Rounde: 32\n",
      "Zweilous Hp: 228.46086956521708\n",
      "Zygarde50% Forme Hp: 120.6999999999998\n",
      "Rounde: 33\n",
      "Zweilous Hp: 227.63478260869533\n",
      "Zygarde50% Forme Hp: 119.7749999999998\n",
      "Rounde: 34\n",
      "Zweilous Hp: 226.80869565217358\n",
      "Zygarde50% Forme Hp: 118.84999999999981\n",
      "Rounde: 35\n",
      "Zweilous Hp: 225.98260869565183\n",
      "Zygarde50% Forme Hp: 117.92499999999981\n",
      "Rounde: 36\n",
      "Zweilous Hp: 225.13913043478226\n",
      "Zygarde50% Forme Hp: 117.04999999999981\n",
      "Rounde: 37\n",
      "Zweilous Hp: 224.3130434782605\n",
      "Zygarde50% Forme Hp: 116.12499999999982\n",
      "Rounde: 38\n",
      "Zweilous Hp: 223.48695652173876\n",
      "Zygarde50% Forme Hp: 115.19999999999982\n",
      "Rounde: 39\n",
      "Zweilous Hp: 222.660869565217\n",
      "Zygarde50% Forme Hp: 114.27499999999982\n",
      "Rounde: 40\n",
      "Zweilous Hp: 221.83478260869526\n",
      "Zygarde50% Forme Hp: 113.34999999999982\n",
      "Rounde: 41\n",
      "Zweilous Hp: 220.9913043478257\n",
      "Zygarde50% Forme Hp: 112.47499999999982\n",
      "Rounde: 42\n",
      "Zweilous Hp: 220.16521739130394\n",
      "Zygarde50% Forme Hp: 111.54999999999983\n",
      "Rounde: 43\n",
      "Zweilous Hp: 219.3391304347822\n",
      "Zygarde50% Forme Hp: 110.62499999999983\n",
      "Rounde: 44\n",
      "Zweilous Hp: 218.51304347826044\n",
      "Zygarde50% Forme Hp: 109.69999999999983\n",
      "Rounde: 45\n",
      "Zweilous Hp: 217.6869565217387\n",
      "Zygarde50% Forme Hp: 108.77499999999984\n",
      "Rounde: 46\n",
      "Zweilous Hp: 216.84347826086912\n",
      "Zygarde50% Forme Hp: 107.89999999999984\n",
      "Rounde: 47\n",
      "Zweilous Hp: 216.01739130434737\n",
      "Zygarde50% Forme Hp: 106.97499999999984\n",
      "Rounde: 48\n",
      "Zweilous Hp: 215.19130434782562\n",
      "Zygarde50% Forme Hp: 106.04999999999984\n",
      "Rounde: 49\n",
      "Zweilous Hp: 214.36521739130387\n",
      "Zygarde50% Forme Hp: 105.12499999999984\n",
      "Rounde: 50\n",
      "Zweilous Hp: 213.53913043478212\n",
      "Zygarde50% Forme Hp: 104.19999999999985\n",
      "Rounde: 51\n",
      "Zweilous Hp: 212.69565217391255\n",
      "Zygarde50% Forme Hp: 103.32499999999985\n",
      "Rounde: 52\n",
      "Zweilous Hp: 211.8695652173908\n",
      "Zygarde50% Forme Hp: 102.39999999999985\n",
      "Rounde: 53\n",
      "Zweilous Hp: 211.04347826086905\n",
      "Zygarde50% Forme Hp: 101.47499999999985\n",
      "Rounde: 54\n",
      "Zweilous Hp: 210.2173913043473\n",
      "Zygarde50% Forme Hp: 100.54999999999986\n",
      "Rounde: 55\n",
      "Zweilous Hp: 209.39130434782555\n",
      "Zygarde50% Forme Hp: 99.62499999999986\n",
      "Rounde: 56\n",
      "Zweilous Hp: 208.54782608695598\n",
      "Zygarde50% Forme Hp: 98.74999999999986\n",
      "Rounde: 57\n",
      "Zweilous Hp: 207.72173913043423\n",
      "Zygarde50% Forme Hp: 97.82499999999986\n",
      "Rounde: 58\n",
      "Zweilous Hp: 206.89565217391248\n",
      "Zygarde50% Forme Hp: 96.89999999999986\n",
      "Rounde: 59\n",
      "Zweilous Hp: 206.06956521739073\n",
      "Zygarde50% Forme Hp: 95.97499999999987\n",
      "Rounde: 60\n",
      "Zweilous Hp: 205.24347826086898\n",
      "Zygarde50% Forme Hp: 95.04999999999987\n",
      "Rounde: 61\n",
      "Zweilous Hp: 204.3999999999994\n",
      "Zygarde50% Forme Hp: 94.17499999999987\n",
      "Rounde: 62\n",
      "Zweilous Hp: 203.57391304347766\n",
      "Zygarde50% Forme Hp: 93.24999999999987\n",
      "Rounde: 63\n",
      "Zweilous Hp: 202.7478260869559\n",
      "Zygarde50% Forme Hp: 92.32499999999987\n",
      "Rounde: 64\n",
      "Zweilous Hp: 201.92173913043416\n",
      "Zygarde50% Forme Hp: 91.39999999999988\n",
      "Rounde: 65\n",
      "Zweilous Hp: 201.0956521739124\n",
      "Zygarde50% Forme Hp: 90.47499999999988\n",
      "Rounde: 66\n",
      "Zweilous Hp: 200.25217391304284\n",
      "Zygarde50% Forme Hp: 89.59999999999988\n",
      "Rounde: 67\n",
      "Zweilous Hp: 199.4260869565211\n",
      "Zygarde50% Forme Hp: 88.67499999999988\n",
      "Rounde: 68\n",
      "Zweilous Hp: 198.59999999999934\n",
      "Zygarde50% Forme Hp: 87.74999999999989\n",
      "Rounde: 69\n",
      "Zweilous Hp: 197.7739130434776\n",
      "Zygarde50% Forme Hp: 86.82499999999989\n",
      "Rounde: 70\n",
      "Zweilous Hp: 196.94782608695584\n",
      "Zygarde50% Forme Hp: 85.89999999999989\n",
      "Rounde: 71\n",
      "Zweilous Hp: 196.10434782608627\n",
      "Zygarde50% Forme Hp: 85.02499999999989\n",
      "Rounde: 72\n",
      "Zweilous Hp: 195.27826086956452\n",
      "Zygarde50% Forme Hp: 84.0999999999999\n",
      "Rounde: 73\n",
      "Zweilous Hp: 194.45217391304277\n",
      "Zygarde50% Forme Hp: 83.1749999999999\n",
      "Rounde: 74\n",
      "Zweilous Hp: 193.62608695652102\n",
      "Zygarde50% Forme Hp: 82.2499999999999\n",
      "Rounde: 75\n",
      "Zweilous Hp: 192.79999999999927\n",
      "Zygarde50% Forme Hp: 81.3249999999999\n",
      "Rounde: 76\n",
      "Zweilous Hp: 191.9565217391297\n",
      "Zygarde50% Forme Hp: 80.4499999999999\n",
      "Rounde: 77\n",
      "Zweilous Hp: 191.13043478260795\n",
      "Zygarde50% Forme Hp: 79.5249999999999\n",
      "Rounde: 78\n",
      "Zweilous Hp: 190.3043478260862\n",
      "Zygarde50% Forme Hp: 78.59999999999991\n",
      "Rounde: 79\n",
      "Zweilous Hp: 189.47826086956445\n",
      "Zygarde50% Forme Hp: 77.67499999999991\n",
      "Rounde: 80\n",
      "Zweilous Hp: 188.6521739130427\n",
      "Zygarde50% Forme Hp: 76.74999999999991\n",
      "Rounde: 81\n",
      "Zweilous Hp: 187.80869565217313\n",
      "Zygarde50% Forme Hp: 75.87499999999991\n",
      "Rounde: 82\n",
      "Zweilous Hp: 186.98260869565138\n",
      "Zygarde50% Forme Hp: 74.94999999999992\n",
      "Rounde: 83\n",
      "Zweilous Hp: 186.15652173912963\n",
      "Zygarde50% Forme Hp: 74.02499999999992\n",
      "Rounde: 84\n",
      "Zweilous Hp: 185.33043478260788\n",
      "Zygarde50% Forme Hp: 73.09999999999992\n",
      "Rounde: 85\n",
      "Zweilous Hp: 184.50434782608613\n",
      "Zygarde50% Forme Hp: 72.17499999999993\n",
      "Rounde: 86\n",
      "Zweilous Hp: 183.66086956521656\n",
      "Zygarde50% Forme Hp: 71.29999999999993\n",
      "Rounde: 87\n",
      "Zweilous Hp: 182.8347826086948\n",
      "Zygarde50% Forme Hp: 70.37499999999993\n",
      "Rounde: 88\n",
      "Zweilous Hp: 182.00869565217306\n",
      "Zygarde50% Forme Hp: 69.44999999999993\n",
      "Rounde: 89\n",
      "Zweilous Hp: 181.1826086956513\n",
      "Zygarde50% Forme Hp: 68.52499999999993\n",
      "Rounde: 90\n",
      "Zweilous Hp: 180.35652173912956\n",
      "Zygarde50% Forme Hp: 67.59999999999994\n",
      "Rounde: 91\n",
      "Zweilous Hp: 179.51304347826\n",
      "Zygarde50% Forme Hp: 66.72499999999994\n",
      "Rounde: 92\n",
      "Zweilous Hp: 178.68695652173824\n",
      "Zygarde50% Forme Hp: 65.79999999999994\n",
      "Rounde: 93\n",
      "Zweilous Hp: 177.8608695652165\n",
      "Zygarde50% Forme Hp: 64.87499999999994\n",
      "Rounde: 94\n",
      "Zweilous Hp: 177.03478260869474\n",
      "Zygarde50% Forme Hp: 63.949999999999946\n",
      "Rounde: 95\n",
      "Zweilous Hp: 176.208695652173\n",
      "Zygarde50% Forme Hp: 63.02499999999995\n",
      "Rounde: 96\n",
      "Zweilous Hp: 175.36521739130342\n",
      "Zygarde50% Forme Hp: 62.14999999999995\n",
      "Rounde: 97\n",
      "Zweilous Hp: 174.53913043478167\n",
      "Zygarde50% Forme Hp: 61.22499999999995\n",
      "Rounde: 98\n",
      "Zweilous Hp: 173.71304347825992\n",
      "Zygarde50% Forme Hp: 60.299999999999955\n",
      "Rounde: 99\n",
      "Zweilous Hp: 172.88695652173817\n",
      "Zygarde50% Forme Hp: 59.37499999999996\n",
      "Rounde: 100\n",
      "Zweilous Hp: 172.06086956521642\n",
      "Zygarde50% Forme Hp: 58.44999999999996\n",
      "Rounde: 101\n",
      "Zweilous Hp: 171.21739130434685\n",
      "Zygarde50% Forme Hp: 57.57499999999996\n",
      "Rounde: 102\n",
      "Zweilous Hp: 170.3913043478251\n",
      "Zygarde50% Forme Hp: 56.64999999999996\n",
      "Rounde: 103\n",
      "Zweilous Hp: 169.56521739130335\n",
      "Zygarde50% Forme Hp: 55.724999999999966\n",
      "Rounde: 104\n",
      "Zweilous Hp: 168.7391304347816\n",
      "Zygarde50% Forme Hp: 54.79999999999997\n",
      "Rounde: 105\n",
      "Zweilous Hp: 167.91304347825985\n",
      "Zygarde50% Forme Hp: 53.87499999999997\n",
      "Rounde: 106\n",
      "Zweilous Hp: 167.06956521739028\n",
      "Zygarde50% Forme Hp: 52.99999999999997\n",
      "Rounde: 107\n",
      "Zweilous Hp: 166.24347826086853\n",
      "Zygarde50% Forme Hp: 52.074999999999974\n",
      "Rounde: 108\n",
      "Zweilous Hp: 165.41739130434678\n",
      "Zygarde50% Forme Hp: 51.14999999999998\n",
      "Rounde: 109\n",
      "Zweilous Hp: 164.59130434782503\n",
      "Zygarde50% Forme Hp: 50.22499999999998\n",
      "Rounde: 110\n",
      "Zweilous Hp: 163.76521739130328\n",
      "Zygarde50% Forme Hp: 49.29999999999998\n",
      "Rounde: 111\n",
      "Zweilous Hp: 162.9217391304337\n",
      "Zygarde50% Forme Hp: 48.42499999999998\n",
      "Rounde: 112\n",
      "Zweilous Hp: 162.09565217391196\n",
      "Zygarde50% Forme Hp: 47.499999999999986\n",
      "Rounde: 113\n",
      "Zweilous Hp: 161.2695652173902\n",
      "Zygarde50% Forme Hp: 46.57499999999999\n",
      "Rounde: 114\n",
      "Zweilous Hp: 160.44347826086846\n",
      "Zygarde50% Forme Hp: 45.64999999999999\n",
      "Rounde: 115\n",
      "Zweilous Hp: 159.6173913043467\n",
      "Zygarde50% Forme Hp: 44.724999999999994\n",
      "Rounde: 116\n",
      "Zweilous Hp: 158.77391304347714\n",
      "Zygarde50% Forme Hp: 43.849999999999994\n",
      "Rounde: 117\n",
      "Zweilous Hp: 157.9478260869554\n",
      "Zygarde50% Forme Hp: 42.925\n",
      "Rounde: 118\n",
      "Zweilous Hp: 157.12173913043364\n",
      "Zygarde50% Forme Hp: 42.0\n",
      "Rounde: 119\n",
      "Zweilous Hp: 156.2956521739119\n",
      "Zygarde50% Forme Hp: 41.075\n",
      "Rounde: 120\n",
      "Zweilous Hp: 155.46956521739014\n",
      "Zygarde50% Forme Hp: 40.150000000000006\n",
      "Rounde: 121\n",
      "Zweilous Hp: 154.62608695652057\n",
      "Zygarde50% Forme Hp: 39.275000000000006\n",
      "Rounde: 122\n",
      "Zweilous Hp: 153.79999999999882\n",
      "Zygarde50% Forme Hp: 38.35000000000001\n",
      "Rounde: 123\n",
      "Zweilous Hp: 152.97391304347707\n",
      "Zygarde50% Forme Hp: 37.42500000000001\n",
      "Rounde: 124\n",
      "Zweilous Hp: 152.14782608695532\n",
      "Zygarde50% Forme Hp: 36.500000000000014\n",
      "Rounde: 125\n",
      "Zweilous Hp: 151.32173913043357\n",
      "Zygarde50% Forme Hp: 35.57500000000002\n",
      "Rounde: 126\n",
      "Zweilous Hp: 150.478260869564\n",
      "Zygarde50% Forme Hp: 34.70000000000002\n",
      "Rounde: 127\n",
      "Zweilous Hp: 149.65217391304225\n",
      "Zygarde50% Forme Hp: 33.77500000000002\n",
      "Rounde: 128\n",
      "Zweilous Hp: 148.8260869565205\n",
      "Zygarde50% Forme Hp: 32.85000000000002\n",
      "Rounde: 129\n",
      "Zweilous Hp: 147.99999999999875\n",
      "Zygarde50% Forme Hp: 31.925000000000022\n",
      "Rounde: 130\n",
      "Zweilous Hp: 147.173913043477\n",
      "Zygarde50% Forme Hp: 31.00000000000002\n",
      "Rounde: 131\n",
      "Zweilous Hp: 146.33043478260743\n",
      "Zygarde50% Forme Hp: 30.12500000000002\n",
      "Rounde: 132\n",
      "Zweilous Hp: 145.50434782608568\n",
      "Zygarde50% Forme Hp: 29.20000000000002\n",
      "Rounde: 133\n",
      "Zweilous Hp: 144.67826086956393\n",
      "Zygarde50% Forme Hp: 28.27500000000002\n",
      "Rounde: 134\n",
      "Zweilous Hp: 143.85217391304218\n",
      "Zygarde50% Forme Hp: 27.35000000000002\n",
      "Rounde: 135\n",
      "Zweilous Hp: 143.02608695652043\n",
      "Zygarde50% Forme Hp: 26.42500000000002\n",
      "Rounde: 136\n",
      "Zweilous Hp: 142.18260869565086\n",
      "Zygarde50% Forme Hp: 25.55000000000002\n",
      "Rounde: 137\n",
      "Zweilous Hp: 141.3565217391291\n",
      "Zygarde50% Forme Hp: 24.625000000000018\n",
      "Rounde: 138\n",
      "Zweilous Hp: 140.53043478260736\n",
      "Zygarde50% Forme Hp: 23.700000000000017\n",
      "Rounde: 139\n",
      "Zweilous Hp: 139.7043478260856\n",
      "Zygarde50% Forme Hp: 22.775000000000016\n",
      "Rounde: 140\n",
      "Zweilous Hp: 138.87826086956386\n",
      "Zygarde50% Forme Hp: 21.850000000000016\n",
      "Rounde: 141\n",
      "Zweilous Hp: 138.0347826086943\n",
      "Zygarde50% Forme Hp: 20.975000000000016\n",
      "Rounde: 142\n",
      "Zweilous Hp: 137.20869565217254\n",
      "Zygarde50% Forme Hp: 20.050000000000015\n",
      "Rounde: 143\n",
      "Zweilous Hp: 136.3826086956508\n",
      "Zygarde50% Forme Hp: 19.125000000000014\n",
      "Rounde: 144\n",
      "Zweilous Hp: 135.55652173912904\n",
      "Zygarde50% Forme Hp: 18.200000000000014\n",
      "Rounde: 145\n",
      "Zweilous Hp: 134.7304347826073\n",
      "Zygarde50% Forme Hp: 17.275000000000013\n",
      "Rounde: 146\n",
      "Zweilous Hp: 133.88695652173772\n",
      "Zygarde50% Forme Hp: 16.400000000000013\n",
      "Rounde: 147\n",
      "Zweilous Hp: 133.06086956521597\n",
      "Zygarde50% Forme Hp: 15.475000000000012\n",
      "Rounde: 148\n",
      "Zweilous Hp: 132.23478260869422\n",
      "Zygarde50% Forme Hp: 14.550000000000011\n",
      "Rounde: 149\n",
      "Zweilous Hp: 131.40869565217247\n",
      "Zygarde50% Forme Hp: 13.62500000000001\n",
      "Rounde: 150\n",
      "Zweilous Hp: 130.58260869565072\n",
      "Zygarde50% Forme Hp: 12.70000000000001\n",
      "Rounde: 151\n",
      "Zweilous Hp: 129.73913043478115\n",
      "Zygarde50% Forme Hp: 11.82500000000001\n",
      "Rounde: 152\n",
      "Zweilous Hp: 128.9130434782594\n",
      "Zygarde50% Forme Hp: 10.90000000000001\n",
      "Rounde: 153\n",
      "Zweilous Hp: 128.08695652173765\n",
      "Zygarde50% Forme Hp: 9.975000000000009\n",
      "Rounde: 154\n",
      "Zweilous Hp: 127.26086956521591\n",
      "Zygarde50% Forme Hp: 9.050000000000008\n",
      "Rounde: 155\n",
      "Zweilous Hp: 126.43478260869418\n",
      "Zygarde50% Forme Hp: 8.125000000000007\n",
      "Rounde: 156\n",
      "Zweilous Hp: 125.59130434782462\n",
      "Zygarde50% Forme Hp: 7.250000000000007\n",
      "Rounde: 157\n",
      "Zweilous Hp: 124.76521739130288\n",
      "Zygarde50% Forme Hp: 6.325000000000007\n",
      "Rounde: 158\n",
      "Zweilous Hp: 123.93913043478115\n",
      "Zygarde50% Forme Hp: 5.4000000000000075\n",
      "Rounde: 159\n",
      "Zweilous Hp: 123.11304347825941\n",
      "Zygarde50% Forme Hp: 4.475000000000008\n",
      "Rounde: 160\n",
      "Zweilous Hp: 122.28695652173768\n",
      "Zygarde50% Forme Hp: 3.550000000000008\n",
      "Rounde: 161\n",
      "Zweilous Hp: 121.44347826086812\n",
      "Zygarde50% Forme Hp: 2.675000000000008\n",
      "Rounde: 162\n",
      "Zweilous Hp: 120.61739130434638\n",
      "Zygarde50% Forme Hp: 1.7500000000000078\n",
      "Rounde: 163\n",
      "Zweilous Hp: 119.79130434782465\n",
      "Zygarde50% Forme Hp: 0.8250000000000077\n",
      "Rounde: 164\n",
      "Zweilous Hp: 118.96521739130291\n",
      "Zygarde50% Forme Hp: -0.09999999999999232\n",
      "Rounde: 165\n",
      "Zweilous Hp: 118.13913043478118\n",
      "Zygarde50% Forme Fainted...\n"
     ]
    }
   ],
   "source": [
    "def simulasi():\n",
    "    round = 1 # Menentukan jumlah ronde sampai salah satu pokemon pingsan.\n",
    "    special = 0 # spesial attack pokemon normal\n",
    "    special_legend = 0 # spesial attack pokemon legend\n",
    "    while True: # Looping\n",
    "        print(f\"Rounde: {round}\") # output jumlah ronde\n",
    "        if pokemon_normal.speed < pokemon_legendary.speed: # kondisi jika speed pokemon normal lebih rendah dari speed pokemon legendary\n",
    "            if pokemon_normal.hp != 0 and pokemon_normal.hp > 0 and special_legend == 5: # kondisi jika Hp pokemon normal lebih besar dari 0 dan spesial attack terpenuhi\n",
    "                pokemon_normal.hp -= pokemon_legendary.sp_atk/pokemon_normal.sp_def # Hp pokemon normal akan dikurangi dari hasil damage yang diberikan\n",
    "                print(f\"{pokemon_normal['name']} Hp: {pokemon_normal.hp}\") # output sisa Hp yang dimiliki\n",
    "                special_legend = 0 # Reset special attack\n",
    "            elif pokemon_normal.hp != 0 and pokemon_normal.hp > 0: # kondisi jika Hp pokemon normal lebih besar dari 0\n",
    "                pokemon_normal.hp -= pokemon_legendary.attack/pokemon_normal.defense # Hp pokemon normal akan dikurangi dari hasil damage yang diberikan\n",
    "                print(f\"{pokemon_normal['name']} Hp: {pokemon_normal.hp}\") # output sisa Hp yang dimiliki\n",
    "            else: # Kondisi jika Hp pokemon normal sudah kurang dari 0\n",
    "                print(f\"{pokemon_normal['name']} Fainted...\") # output pokemon normal telah pingsan\n",
    "                break # looping dihentikan\n",
    "            if pokemon_legendary.hp != 0 and pokemon_legendary.hp > 0 and special == 5: # kondisi jika Hp pokemon legendary lebih besar dari 0 dan spesial attack terpenuhi\n",
    "                pokemon_legendary.hp -= pokemon_normal.sp_atk/pokemon_legendary.sp_def # Hp pokemon legendary akan dikurangi dari hasil damage yang diberikan\n",
    "                print(f\"{pokemon_legendary['name']} Hp: {pokemon_legendary.hp}\") # output sisa Hp yang dimiliki\n",
    "                special = 0 # Reset special attack\n",
    "            elif pokemon_legendary.hp != 0 and pokemon_legendary.hp > 0: # kondisi jika Hp pokemon legendary lebih besar dari 0\n",
    "                pokemon_legendary.hp -= pokemon_normal.attack/pokemon_legendary.defense # Hp pokemon legendary akan dikurangi dari hasil damage yang diberikan\n",
    "                print(f\"{pokemon_legendary['name']} Hp: {pokemon_legendary.hp}\") # output sisa Hp yang dimiliki\n",
    "            else: # Kondisi jika Hp pokemon legendary sudah kurang dari 0\n",
    "                print(f\"{pokemon_legendary['name']} Fainted...\") # output pokemon legendary telah pingsan\n",
    "                break # looping dihentikan\n",
    "        else:  # kondisi jika speed pokemon legendary lebih rendah dari speed pokemon normal\n",
    "            if pokemon_legendary.hp != 0 and pokemon_legendary.hp > 0 and special == 5: # kondisi jika Hp pokemon legendary lebih besar dari 0 dan spesial attack terpenuhi\n",
    "                pokemon_legendary.hp -= pokemon_normal.sp_atk/pokemon_legendary.sp_def # Hp pokemon legendary akan dikurangi dari hasil damage yang diberikan\n",
    "                print(f\"{pokemon_legendary['name']} Hp: {pokemon_legendary.hp}\") # output sisa Hp yang dimiliki\n",
    "                special = 0 # Reset special attack\n",
    "            elif pokemon_legendary.hp != 0 and pokemon_legendary.hp > 0: # kondisi jika Hp pokemon legendary lebih besar dari 0\n",
    "                pokemon_legendary.hp -= pokemon_normal.attack/pokemon_legendary.defense # Hp pokemon legendary akan dikurangi dari hasil damage yang diberikan\n",
    "                print(f\"{pokemon_legendary['name']} Hp: {pokemon_legendary.hp}\") # output sisa Hp yang dimiliki\n",
    "            else: # Kondisi jika Hp pokemon legendary sudah kurang dari 0\n",
    "                print(f\"{pokemon_legendary['name']} Fainted...\") # output pokemon legendary telah pingsan\n",
    "                break # looping dihentikan\n",
    "            if pokemon_normal.hp != 0 and pokemon_normal.hp > 0 and special_legend == 5: # kondisi jika Hp pokemon normal lebih besar dari 0 dan spesial attack terpenuhi\n",
    "                pokemon_normal.hp -= pokemon_legendary.sp_atk/pokemon_normal.sp_def # Hp pokemon normal akan dikurangi dari hasil damage yang diberikan\n",
    "                print(f\"{pokemon_normal['name']} Hp: {pokemon_normal.hp}\") # output sisa Hp yang dimiliki\n",
    "                special_legend = 0 # Reset special attack\n",
    "            elif pokemon_normal.hp != 0 and pokemon_normal.hp > 0: # kondisi jika Hp pokemon normal lebih besar dari 0\n",
    "                pokemon_normal.hp -= pokemon_legendary.attack/pokemon_normal.defense # Hp pokemon normal akan dikurangi dari hasil damage yang diberikan\n",
    "                print(f\"{pokemon_normal['name']} Hp: {pokemon_normal.hp}\") # output sisa Hp yang dimiliki\n",
    "            else: # Kondisi jika Hp pokemon normal sudah kurang dari 0\n",
    "                print(f\"{pokemon_normal['name']} Fainted...\") # output pokemon normal telah pingsan\n",
    "                break # looping dihentikan\n",
    "        special_legend += 1 # Menambah isi spesial attack\n",
    "        special += 1 # Menambah isi spesial attack\n",
    "        round+=1 # Ronde bertambah 1\n",
    "\n",
    "\n",
    "simulasi() # memanggil function simulasi\n"
   ]
  },
  {
   "cell_type": "markdown",
   "metadata": {},
   "source": [
    "Hasil dari program di atas adalah `Zygarde50% Forme` telah pingsan setelah bertarung selama 165 ronde, sedangkan `Zweilous` masih bertahan dengan Hp points: 118 pts."
   ]
  },
  {
   "cell_type": "markdown",
   "metadata": {},
   "source": [
    "Mencoba pertandingan kedua menggunakan pokemon normal dengan stats terendah dan pokemon legendary dengan stats terendah."
   ]
  },
  {
   "cell_type": "code",
   "execution_count": 273,
   "metadata": {},
   "outputs": [
    {
     "data": {
      "text/plain": [
       "name          Abomasnow\n",
       "type_1              Bug\n",
       "type_2              Bug\n",
       "total               180\n",
       "hp                    1\n",
       "attack                5\n",
       "defense               5\n",
       "sp_atk               10\n",
       "sp_def               20\n",
       "speed                 5\n",
       "generation            1\n",
       "legendary         False\n",
       "ability             one\n",
       "dtype: object"
      ]
     },
     "execution_count": 273,
     "metadata": {},
     "output_type": "execute_result"
    }
   ],
   "source": [
    "pokemon_normal = data_pokemon[(data_pokemon['legendary']==False)].min() # Mencari pokemon normal dengan total stats terendah\n",
    "pokemon_normal # Menampilkan informasi data pokemon"
   ]
  },
  {
   "cell_type": "code",
   "execution_count": 276,
   "metadata": {},
   "outputs": [
    {
     "data": {
      "text/plain": [
       "name          Arceus\n",
       "type_1          Dark\n",
       "type_2          Dark\n",
       "total            580\n",
       "hp                50\n",
       "attack            50\n",
       "defense           20\n",
       "sp_atk            50\n",
       "sp_def            20\n",
       "speed             50\n",
       "generation         1\n",
       "legendary       True\n",
       "ability          one\n",
       "dtype: object"
      ]
     },
     "execution_count": 276,
     "metadata": {},
     "output_type": "execute_result"
    }
   ],
   "source": [
    "pokemon_legendary = data_pokemon[(data_pokemon['legendary']==True)].min() # Mencari pokemon legendary dengan total stats terendah\n",
    "pokemon_legendary # Menampilkan informasi data pokemon"
   ]
  },
  {
   "cell_type": "code",
   "execution_count": 275,
   "metadata": {},
   "outputs": [
    {
     "name": "stdout",
     "output_type": "stream",
     "text": [
      "Rounde: 1\n",
      "Abomasnow Hp: -9.0\n",
      "Arceus Hp: 49.75\n",
      "Rounde: 2\n",
      "Abomasnow Fainted...\n"
     ]
    }
   ],
   "source": [
    "simulasi()"
   ]
  },
  {
   "cell_type": "markdown",
   "metadata": {},
   "source": [
    "Hasil dari pertandingan di atas adalah `Abomasnow` telah pingsan setelah bertarung 2 ronde, sedangkan `Arceus` masih bertahan dengan sisa Hp points: 49.75 pts."
   ]
  },
  {
   "cell_type": "markdown",
   "metadata": {},
   "source": [
    "## Conclusions, Assumptions, Overall Analysis"
   ]
  },
  {
   "cell_type": "markdown",
   "metadata": {},
   "source": [
    "Kesimpulan dari data exploration di atas:"
   ]
  },
  {
   "cell_type": "markdown",
   "metadata": {},
   "source": []
  }
 ],
 "metadata": {
  "kernelspec": {
   "display_name": "Python 3.10.4 64-bit",
   "language": "python",
   "name": "python3"
  },
  "language_info": {
   "codemirror_mode": {
    "name": "ipython",
    "version": 3
   },
   "file_extension": ".py",
   "mimetype": "text/x-python",
   "name": "python",
   "nbconvert_exporter": "python",
   "pygments_lexer": "ipython3",
   "version": "3.10.4"
  },
  "orig_nbformat": 4,
  "vscode": {
   "interpreter": {
    "hash": "27f6fea6f47ae512550f0b8facdbd035a93e1dd89633f7bf2dd00a2502c71d0d"
   }
  }
 },
 "nbformat": 4,
 "nbformat_minor": 2
}
